{
 "cells": [
  {
   "cell_type": "markdown",
   "metadata": {
    "colab_type": "text",
    "id": "zH1uLAqSiAVQ"
   },
   "source": [
    "# Faking Data For Training\n"
   ]
  },
  {
   "cell_type": "code",
   "execution_count": 12,
   "metadata": {
    "colab": {
     "base_uri": "https://localhost:8080/",
     "height": 72
    },
    "colab_type": "code",
    "executionInfo": {
     "elapsed": 1521,
     "status": "ok",
     "timestamp": 1593539369459,
     "user": {
      "displayName": "Eric Busboom",
      "photoUrl": "https://lh3.googleusercontent.com/a-/AOh14GhErUlxQGJw7NuO4-cXgpoZX14NvlN4u6TWIvNR=s64",
      "userId": "12634099167810241334"
     },
     "user_tz": 420
    },
    "id": "cUBtPwA8haCF",
    "outputId": "1018b69b-1e68-49cc-aff0-68edb9ecc774"
   },
   "outputs": [],
   "source": [
    "# Imports should be collected at the top, as a standard programming convention\n",
    "\n",
    "# This turns off a warning about a deprecation in Pandas, from coude referenced by Statsmodel. \n",
    "import warnings\n",
    "warnings.simplefilter(action='ignore', category=FutureWarning)\n",
    "\n",
    "\n",
    "# These imports are the most common for data analysis, \n",
    "# and they are given standard aliases. \n",
    "import pandas as pd\n",
    "import numpy as np\n",
    "import seaborn as sns\n",
    "import matplotlib.pyplot as plt\n",
    "\n",
    "# For other imports, we only need one or two \n",
    "# functions, rather than the whole module. \n",
    "from scipy.stats import zscore\n",
    "from pathlib import Path\n",
    "from os import environ\n",
    "\n",
    "from sklearn.linear_model import LinearRegression, Ridge, Lasso\n",
    "from statsmodels.formula.api import ols"
   ]
  },
  {
   "cell_type": "markdown",
   "metadata": {},
   "source": [
    "# Faking Great Results\n",
    "\n",
    "\n"
   ]
  },
  {
   "cell_type": "code",
   "execution_count": 13,
   "metadata": {},
   "outputs": [
    {
     "data": {
      "text/html": [
       "<div>\n",
       "<style scoped>\n",
       "    .dataframe tbody tr th:only-of-type {\n",
       "        vertical-align: middle;\n",
       "    }\n",
       "\n",
       "    .dataframe tbody tr th {\n",
       "        vertical-align: top;\n",
       "    }\n",
       "\n",
       "    .dataframe thead th {\n",
       "        text-align: right;\n",
       "    }\n",
       "</style>\n",
       "<table border=\"1\" class=\"dataframe\">\n",
       "  <thead>\n",
       "    <tr style=\"text-align: right;\">\n",
       "      <th></th>\n",
       "      <th></th>\n",
       "      <th>depth</th>\n",
       "      <th>dissolved_oxygen</th>\n",
       "      <th>fluorescence</th>\n",
       "      <th>ph</th>\n",
       "      <th>salinity</th>\n",
       "      <th>temperature</th>\n",
       "      <th>transmissivity</th>\n",
       "      <th>turbidity</th>\n",
       "    </tr>\n",
       "    <tr>\n",
       "      <th>sitename</th>\n",
       "      <th>datetime</th>\n",
       "      <th></th>\n",
       "      <th></th>\n",
       "      <th></th>\n",
       "      <th></th>\n",
       "      <th></th>\n",
       "      <th></th>\n",
       "      <th></th>\n",
       "      <th></th>\n",
       "    </tr>\n",
       "  </thead>\n",
       "  <tbody>\n",
       "    <tr>\n",
       "      <th rowspan=\"5\" valign=\"top\">AS1</th>\n",
       "      <th>2018-07-17 11:49:00</th>\n",
       "      <td>0.5</td>\n",
       "      <td>7.16056</td>\n",
       "      <td>2.9065</td>\n",
       "      <td>8.094</td>\n",
       "      <td>33.6155</td>\n",
       "      <td>19.9630</td>\n",
       "      <td>75.6053</td>\n",
       "      <td>0.671335</td>\n",
       "    </tr>\n",
       "    <tr>\n",
       "      <th>2018-07-17 11:49:00</th>\n",
       "      <td>1.0</td>\n",
       "      <td>7.17666</td>\n",
       "      <td>3.0533</td>\n",
       "      <td>8.090</td>\n",
       "      <td>33.6125</td>\n",
       "      <td>19.9335</td>\n",
       "      <td>75.3734</td>\n",
       "      <td>0.883069</td>\n",
       "    </tr>\n",
       "    <tr>\n",
       "      <th>2018-07-17 11:49:00</th>\n",
       "      <td>1.5</td>\n",
       "      <td>7.13837</td>\n",
       "      <td>3.4530</td>\n",
       "      <td>8.091</td>\n",
       "      <td>33.5674</td>\n",
       "      <td>19.7881</td>\n",
       "      <td>75.6926</td>\n",
       "      <td>0.883727</td>\n",
       "    </tr>\n",
       "    <tr>\n",
       "      <th>2018-07-17 11:49:00</th>\n",
       "      <td>2.0</td>\n",
       "      <td>7.10275</td>\n",
       "      <td>4.0010</td>\n",
       "      <td>8.088</td>\n",
       "      <td>33.5984</td>\n",
       "      <td>19.6458</td>\n",
       "      <td>75.8661</td>\n",
       "      <td>0.734444</td>\n",
       "    </tr>\n",
       "    <tr>\n",
       "      <th>2018-07-17 11:49:00</th>\n",
       "      <td>2.5</td>\n",
       "      <td>7.06786</td>\n",
       "      <td>4.6305</td>\n",
       "      <td>8.090</td>\n",
       "      <td>33.6125</td>\n",
       "      <td>19.5989</td>\n",
       "      <td>75.8419</td>\n",
       "      <td>0.817684</td>\n",
       "    </tr>\n",
       "  </tbody>\n",
       "</table>\n",
       "</div>"
      ],
      "text/plain": [
       "                              depth  dissolved_oxygen  fluorescence     ph  \\\n",
       "sitename datetime                                                            \n",
       "AS1      2018-07-17 11:49:00    0.5           7.16056        2.9065  8.094   \n",
       "         2018-07-17 11:49:00    1.0           7.17666        3.0533  8.090   \n",
       "         2018-07-17 11:49:00    1.5           7.13837        3.4530  8.091   \n",
       "         2018-07-17 11:49:00    2.0           7.10275        4.0010  8.088   \n",
       "         2018-07-17 11:49:00    2.5           7.06786        4.6305  8.090   \n",
       "\n",
       "                              salinity  temperature  transmissivity  turbidity  \n",
       "sitename datetime                                                               \n",
       "AS1      2018-07-17 11:49:00   33.6155      19.9630         75.6053   0.671335  \n",
       "         2018-07-17 11:49:00   33.6125      19.9335         75.3734   0.883069  \n",
       "         2018-07-17 11:49:00   33.5674      19.7881         75.6926   0.883727  \n",
       "         2018-07-17 11:49:00   33.5984      19.6458         75.8661   0.734444  \n",
       "         2018-07-17 11:49:00   33.6125      19.5989         75.8419   0.817684  "
      ]
     },
     "execution_count": 13,
     "metadata": {},
     "output_type": "execute_result"
    }
   ],
   "source": [
    "# First we will load the datasets, combine them, and do some cleanup. \n",
    "\n",
    "# The directory in Google Drive where our files are stored. \n",
    "\n",
    "if Path('/gdrive').is_dir():\n",
    "    data_dir = Path('/gdrive/Shared drives/Wood/Data/')\n",
    "    \n",
    "elif environ.get('WOODPLC_DATA_DIR'):\n",
    "    # To run locally, download the Woodplc data directory, or setup Google Drive Stream to mount it, \n",
    "    # then set the environmental variable to the directory   \n",
    "    data_dir = Path(environ.get('WOODPLC_DATA_DIR'))\n",
    "    \n",
    "pola_data_dir = data_dir.joinpath('POLA Water Quality Database Files/CTD Files Organized for Python/Ready for Access')\n",
    "\n",
    "pola = pd.read_csv(data_dir.joinpath('pola_tidy.csv')).set_index(['sitename','datetime'])\n",
    "pola.head()"
   ]
  },
  {
   "cell_type": "code",
   "execution_count": 17,
   "metadata": {},
   "outputs": [
    {
     "data": {
      "text/plain": [
       "count    85544.000000\n",
       "mean         5.307462\n",
       "std          0.749522\n",
       "min          1.804462\n",
       "25%          4.801004\n",
       "50%          5.251132\n",
       "75%          5.758064\n",
       "max          9.544221\n",
       "Name: dissolved_oxygen, dtype: float64"
      ]
     },
     "execution_count": 17,
     "metadata": {},
     "output_type": "execute_result"
    }
   ],
   "source": [
    "from numpy.random import default_rng\n",
    "rng = default_rng()\n",
    "\n",
    "indep_cols = ['ph','fluorescence','temperature']\n",
    "dep_col = 'dissolved_oxygen'\n",
    "\n",
    "polat = pola.copy().dropna(subset = indep_cols+['dissolved_oxygen'])\n",
    "\n",
    "# Get coefficients from a linear regression, so our faked data maintains whatever\n",
    "# linear relationship may be there. \n",
    "lm = LinearRegression()\n",
    "reg = lm.fit(polat[indep_cols], polat[dep_col])\n",
    "\n",
    "err = .5\n",
    "\n",
    "# Multiply the independent columns by the regression coefficients, then add some error\n",
    "polat['dissolved_oxygen'] = polat[indep_cols].multiply(reg.coef_).sum(axis=1) + reg.intercept_ + rng.uniform(-err, err,len(polat) )\n",
    "\n",
    "polat.to_csv(data_dir.joinpath('pola_faked.csv')) #Save it for later. \n",
    "\n",
    "polat.dissolved_oxygen.describe()"
   ]
  },
  {
   "cell_type": "code",
   "execution_count": 15,
   "metadata": {},
   "outputs": [
    {
     "data": {
      "text/html": [
       "<table class=\"simpletable\">\n",
       "<caption>OLS Regression Results</caption>\n",
       "<tr>\n",
       "  <th>Dep. Variable:</th>    <td>dissolved_oxygen</td> <th>  R-squared:         </th> <td>   0.851</td> \n",
       "</tr>\n",
       "<tr>\n",
       "  <th>Model:</th>                   <td>OLS</td>       <th>  Adj. R-squared:    </th> <td>   0.851</td> \n",
       "</tr>\n",
       "<tr>\n",
       "  <th>Method:</th>             <td>Least Squares</td>  <th>  F-statistic:       </th> <td>1.624e+05</td>\n",
       "</tr>\n",
       "<tr>\n",
       "  <th>Date:</th>             <td>Wed, 15 Jul 2020</td> <th>  Prob (F-statistic):</th>  <td>  0.00</td>  \n",
       "</tr>\n",
       "<tr>\n",
       "  <th>Time:</th>                 <td>09:50:28</td>     <th>  Log-Likelihood:    </th> <td> -15166.</td> \n",
       "</tr>\n",
       "<tr>\n",
       "  <th>No. Observations:</th>      <td> 85544</td>      <th>  AIC:               </th> <td>3.034e+04</td>\n",
       "</tr>\n",
       "<tr>\n",
       "  <th>Df Residuals:</th>          <td> 85540</td>      <th>  BIC:               </th> <td>3.038e+04</td>\n",
       "</tr>\n",
       "<tr>\n",
       "  <th>Df Model:</th>              <td>     3</td>      <th>                     </th>     <td> </td>    \n",
       "</tr>\n",
       "<tr>\n",
       "  <th>Covariance Type:</th>      <td>nonrobust</td>    <th>                     </th>     <td> </td>    \n",
       "</tr>\n",
       "</table>\n",
       "<table class=\"simpletable\">\n",
       "<tr>\n",
       "        <td></td>          <th>coef</th>     <th>std err</th>      <th>t</th>      <th>P>|t|</th>  <th>[0.025</th>    <th>0.975]</th>  \n",
       "</tr>\n",
       "<tr>\n",
       "  <th>Intercept</th>    <td>   -6.8597</td> <td>    0.026</td> <td> -258.935</td> <td> 0.000</td> <td>   -6.912</td> <td>   -6.808</td>\n",
       "</tr>\n",
       "<tr>\n",
       "  <th>ph</th>           <td>    1.7032</td> <td>    0.003</td> <td>  532.772</td> <td> 0.000</td> <td>    1.697</td> <td>    1.709</td>\n",
       "</tr>\n",
       "<tr>\n",
       "  <th>fluorescence</th> <td>    0.2082</td> <td>    0.001</td> <td>  319.039</td> <td> 0.000</td> <td>    0.207</td> <td>    0.210</td>\n",
       "</tr>\n",
       "<tr>\n",
       "  <th>temperature</th>  <td>   -0.1090</td> <td>    0.000</td> <td> -236.595</td> <td> 0.000</td> <td>   -0.110</td> <td>   -0.108</td>\n",
       "</tr>\n",
       "</table>\n",
       "<table class=\"simpletable\">\n",
       "<tr>\n",
       "  <th>Omnibus:</th>       <td>79265.112</td> <th>  Durbin-Watson:     </th> <td>   2.009</td>\n",
       "</tr>\n",
       "<tr>\n",
       "  <th>Prob(Omnibus):</th>  <td> 0.000</td>   <th>  Jarque-Bera (JB):  </th> <td>5173.263</td>\n",
       "</tr>\n",
       "<tr>\n",
       "  <th>Skew:</th>           <td> 0.003</td>   <th>  Prob(JB):          </th> <td>    0.00</td>\n",
       "</tr>\n",
       "<tr>\n",
       "  <th>Kurtosis:</th>       <td> 1.795</td>   <th>  Cond. No.          </th> <td>    500.</td>\n",
       "</tr>\n",
       "</table><br/><br/>Warnings:<br/>[1] Standard Errors assume that the covariance matrix of the errors is correctly specified."
      ],
      "text/plain": [
       "<class 'statsmodels.iolib.summary.Summary'>\n",
       "\"\"\"\n",
       "                            OLS Regression Results                            \n",
       "==============================================================================\n",
       "Dep. Variable:       dissolved_oxygen   R-squared:                       0.851\n",
       "Model:                            OLS   Adj. R-squared:                  0.851\n",
       "Method:                 Least Squares   F-statistic:                 1.624e+05\n",
       "Date:                Wed, 15 Jul 2020   Prob (F-statistic):               0.00\n",
       "Time:                        09:50:28   Log-Likelihood:                -15166.\n",
       "No. Observations:               85544   AIC:                         3.034e+04\n",
       "Df Residuals:                   85540   BIC:                         3.038e+04\n",
       "Df Model:                           3                                         \n",
       "Covariance Type:            nonrobust                                         \n",
       "================================================================================\n",
       "                   coef    std err          t      P>|t|      [0.025      0.975]\n",
       "--------------------------------------------------------------------------------\n",
       "Intercept       -6.8597      0.026   -258.935      0.000      -6.912      -6.808\n",
       "ph               1.7032      0.003    532.772      0.000       1.697       1.709\n",
       "fluorescence     0.2082      0.001    319.039      0.000       0.207       0.210\n",
       "temperature     -0.1090      0.000   -236.595      0.000      -0.110      -0.108\n",
       "==============================================================================\n",
       "Omnibus:                    79265.112   Durbin-Watson:                   2.009\n",
       "Prob(Omnibus):                  0.000   Jarque-Bera (JB):             5173.263\n",
       "Skew:                           0.003   Prob(JB):                         0.00\n",
       "Kurtosis:                       1.795   Cond. No.                         500.\n",
       "==============================================================================\n",
       "\n",
       "Warnings:\n",
       "[1] Standard Errors assume that the covariance matrix of the errors is correctly specified.\n",
       "\"\"\""
      ]
     },
     "execution_count": 15,
     "metadata": {},
     "output_type": "execute_result"
    }
   ],
   "source": [
    "t = polat.reset_index()\n",
    "m = ols('dissolved_oxygen ~ ph + fluorescence + temperature', data=t).fit()\n",
    "m.summary()"
   ]
  },
  {
   "cell_type": "code",
   "execution_count": 16,
   "metadata": {},
   "outputs": [
    {
     "data": {
      "text/plain": [
       "Text(0.5, 0.98, 'Hex Dist Plot of pH vs Dissolved Oxygen (Test Data)')"
      ]
     },
     "execution_count": 16,
     "metadata": {},
     "output_type": "execute_result"
    },
    {
     "data": {
      "image/png": "[encoded data removed]",
      "text/plain": [
       "<Figure size 432x432 with 3 Axes>"
      ]
     },
     "metadata": {
      "needs_background": "light"
     },
     "output_type": "display_data"
    }
   ],
   "source": [
    "g =sns.jointplot('dissolved_oxygen','ph',  kind=\"hex\", color=\"#4CB391\", data=polat )\n",
    "g.fig.suptitle('Hex Dist Plot of pH vs Dissolved Oxygen (Test Data)', fontsize=18)"
   ]
  }
 ],
 "metadata": {
  "colab": {
   "authorship_tag": "ABX9TyNYeTn9Xrl3/iviXfeZztgJ",
   "collapsed_sections": [],
   "name": "Basic POLA Analysis.ipynb",
   "provenance": []
  },
  "kernelspec": {
   "display_name": "Python 3",
   "language": "python",
   "name": "python3"
  },
  "language_info": {
   "codemirror_mode": {
    "name": "ipython",
    "version": 3
   },
   "file_extension": ".py",
   "mimetype": "text/x-python",
   "name": "python",
   "nbconvert_exporter": "python",
   "pygments_lexer": "ipython3",
   "version": "3.7.6"
  }
 },
 "nbformat": 4,
 "nbformat_minor": 4
}
