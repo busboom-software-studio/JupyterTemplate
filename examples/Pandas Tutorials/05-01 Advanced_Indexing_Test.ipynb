{
 "cells": [
  {
   "cell_type": "markdown",
   "metadata": {},
   "source": [
    "# Advanced Indexing\n",
    "\n",
    "In this tutorial, we will cover some aspects of advanced indexing, for both rows and columns. As with earlier tutorials, we will start with creating a demonstration dataframe, then operating on it. \n",
    "\n",
    "**Note!** You should make a copy of this notebook before editing it. From the \"File\" menu, select \"Save a copy in Drive\". \n"
   ]
  },
  {
   "cell_type": "code",
   "execution_count": 1,
   "metadata": {},
   "outputs": [],
   "source": [
    "# Initial Imports\n",
    "%matplotlib inline\n",
    "import pandas as pd\n",
    "import numpy as np\n",
    "from IPython.core.display import display, HTML\n",
    "    \n",
    "success = HTML('<p style=\"color:green; font-size:30pt\">Success!</p>')"
   ]
  },
  {
   "cell_type": "code",
   "execution_count": 2,
   "metadata": {},
   "outputs": [],
   "source": [
    "df  = pd.read_csv('http://ds.civicknowledge.org.s3.amazonaws.com/civicknowledge.com/pandas-training/colors-sizes.csv', index_col=False)\n"
   ]
  },
  {
   "cell_type": "markdown",
   "metadata": {},
   "source": [
    "# Indexer Overview\n",
    "\n",
    "Indexers are denoted with square brackets — \"[\" and \"]\" — and are used to access a subset of rows and columns. There are a lot of indexers. Most of them are attached directly to the dataframe object, like ``df['color']``, which select a single column, but there are also indexers that have a seperate sub objects, such as ``df.loc[0]``, which selects a single row. However, in all but one case, the indexer will have the square brackets. Some of these indexers are: \n",
    "\n",
    "\\[ Note: the size column is names 'siz' because ``df.size`` is a property that returns the memory consumption of the dataframe. So, if the ``size`` column was named \"size\", then ``df['size']`` would access the column, but ``df.size`` would not. Naming it 'siz' solves this problem. \\] \n",
    "\n",
    "|Indexer|Description|\n",
    "|-------|-----------|\n",
    "|``df['color']``|Return a single column, as a ``pandas.Series object``|\n",
    "|``df.color``|Access the 'color' column as a property. ( The only square bracket exception) |\n",
    "|``df[['color','siz']]``|Return multiple columns. |\n",
    "|``df.iloc[10]``|Return the 10th row|\n",
    "|``df.loc['blue']``|Return rows with 0the index label of 'blue'. ( Assumes ``.set_index('color')`` was exectued first)|\n",
    "|``df[df.color=='blue']``|Return rows where the color is blue\n",
    "\n",
    "There are a few other indexers which we won't cover here, but you can read about ``.at()`` and ``.iat()`` [in the pandas documentation.](https://pandas.pydata.org/pandas-docs/stable/user_guide/indexing.html#fast-scalar-value-getting-and-setting). \n"
   ]
  },
  {
   "cell_type": "markdown",
   "metadata": {},
   "source": [
    "## Indexing Columns\n",
    "\n",
    "The most commonly used  indexer is the column indexer, which selects columns.  Here are some demonstrations of the various column indexers. \n"
   ]
  },
  {
   "cell_type": "code",
   "execution_count": 3,
   "metadata": {},
   "outputs": [
    {
     "data": {
      "text/plain": [
       "0    blue\n",
       "1    blue\n",
       "2    blue\n",
       "3    blue\n",
       "4    blue\n",
       "Name: color, dtype: object"
      ]
     },
     "execution_count": 3,
     "metadata": {},
     "output_type": "execute_result"
    }
   ],
   "source": [
    "# Column indexer\n",
    "df['color'].head()"
   ]
  },
  {
   "cell_type": "code",
   "execution_count": 4,
   "metadata": {},
   "outputs": [
    {
     "data": {
      "text/plain": [
       "0    blue\n",
       "1    blue\n",
       "2    blue\n",
       "3    blue\n",
       "4    blue\n",
       "Name: color, dtype: object"
      ]
     },
     "execution_count": 4,
     "metadata": {},
     "output_type": "execute_result"
    }
   ],
   "source": [
    "# Column property\n",
    "df.color.head()"
   ]
  },
  {
   "cell_type": "markdown",
   "metadata": {},
   "source": [
    "You can also access multiple coumns, by providing a list of strings to the base indexer: "
   ]
  },
  {
   "cell_type": "code",
   "execution_count": 5,
   "metadata": {},
   "outputs": [
    {
     "data": {
      "text/html": [
       "<div>\n",
       "<style scoped>\n",
       "    .dataframe tbody tr th:only-of-type {\n",
       "        vertical-align: middle;\n",
       "    }\n",
       "\n",
       "    .dataframe tbody tr th {\n",
       "        vertical-align: top;\n",
       "    }\n",
       "\n",
       "    .dataframe thead th {\n",
       "        text-align: right;\n",
       "    }\n",
       "</style>\n",
       "<table border=\"1\" class=\"dataframe\">\n",
       "  <thead>\n",
       "    <tr style=\"text-align: right;\">\n",
       "      <th></th>\n",
       "      <th>color</th>\n",
       "      <th>siz</th>\n",
       "    </tr>\n",
       "  </thead>\n",
       "  <tbody>\n",
       "    <tr>\n",
       "      <th>0</th>\n",
       "      <td>blue</td>\n",
       "      <td>large</td>\n",
       "    </tr>\n",
       "    <tr>\n",
       "      <th>1</th>\n",
       "      <td>blue</td>\n",
       "      <td>large</td>\n",
       "    </tr>\n",
       "    <tr>\n",
       "      <th>2</th>\n",
       "      <td>blue</td>\n",
       "      <td>medium</td>\n",
       "    </tr>\n",
       "    <tr>\n",
       "      <th>3</th>\n",
       "      <td>blue</td>\n",
       "      <td>medium</td>\n",
       "    </tr>\n",
       "    <tr>\n",
       "      <th>4</th>\n",
       "      <td>blue</td>\n",
       "      <td>small</td>\n",
       "    </tr>\n",
       "  </tbody>\n",
       "</table>\n",
       "</div>"
      ],
      "text/plain": [
       "  color     siz\n",
       "0  blue   large\n",
       "1  blue   large\n",
       "2  blue  medium\n",
       "3  blue  medium\n",
       "4  blue   small"
      ]
     },
     "execution_count": 5,
     "metadata": {},
     "output_type": "execute_result"
    }
   ],
   "source": [
    "df[['color','siz']].head()"
   ]
  },
  {
   "cell_type": "markdown",
   "metadata": {},
   "source": [
    "For the multiple column indexer, ``df[['color','siz']]``, don't think of this as \"double brackets\"; it is actually a list inside of the indexer. That is you could also have written:\n",
    "\n",
    "```python \n",
    "idx = ['color','siz'] # A list of strings. \n",
    "df[idx] # Index with a list of strings\n",
    "```\n"
   ]
  },
  {
   "cell_type": "markdown",
   "metadata": {},
   "source": [
    "## Indexing Rows\n",
    "\n",
    "There are three main row indexers: \n",
    "* ``df.loc[]``, to get rows by the index label. \n",
    "* ``df.iloc[]``, to get rows by the row number\n",
    "* ``df[pandas.Series]``, to get rows where the Series has a ``True`` value. \n"
   ]
  },
  {
   "cell_type": "markdown",
   "metadata": {},
   "source": [
    "The ``df.iloc[]`` indexer return rows based on their row numbers, starting at 0. "
   ]
  },
  {
   "cell_type": "code",
   "execution_count": 6,
   "metadata": {},
   "outputs": [
    {
     "data": {
      "text/plain": [
       "color        green\n",
       "siz          small\n",
       "frequency     4616\n",
       "opacity       2105\n",
       "focus          881\n",
       "squelch        636\n",
       "barity        6151\n",
       "Name: 10, dtype: object"
      ]
     },
     "execution_count": 6,
     "metadata": {},
     "output_type": "execute_result"
    }
   ],
   "source": [
    "# Return the 10th row\n",
    "df.iloc[10]"
   ]
  },
  {
   "cell_type": "markdown",
   "metadata": {},
   "source": [
    "The ``df.loc[]`` indexer returns rows based on their index label. By default, the index label is the same as the index row number, so to get the 10th row, we can do the same thing as with ``df.iloc[]``, but use ``df.loc[]``:"
   ]
  },
  {
   "cell_type": "code",
   "execution_count": 7,
   "metadata": {},
   "outputs": [
    {
     "data": {
      "text/plain": [
       "color        green\n",
       "siz          small\n",
       "frequency     4616\n",
       "opacity       2105\n",
       "focus          881\n",
       "squelch        636\n",
       "barity        6151\n",
       "Name: 10, dtype: object"
      ]
     },
     "execution_count": 7,
     "metadata": {},
     "output_type": "execute_result"
    }
   ],
   "source": [
    "df.loc[10]"
   ]
  },
  {
   "cell_type": "markdown",
   "metadata": {},
   "source": [
    "But that only works because the default index is the row number, so the labels for the index are the same as the row number. If we change the index, such as by using ``.set_index()``, we will get different labels. For instance, we can use ``df.set_index('color')`` to set colors as the index labels, then the ``df.loc[]`` can access rows by their color. "
   ]
  },
  {
   "cell_type": "code",
   "execution_count": 8,
   "metadata": {},
   "outputs": [
    {
     "data": {
      "text/html": [
       "<div>\n",
       "<style scoped>\n",
       "    .dataframe tbody tr th:only-of-type {\n",
       "        vertical-align: middle;\n",
       "    }\n",
       "\n",
       "    .dataframe tbody tr th {\n",
       "        vertical-align: top;\n",
       "    }\n",
       "\n",
       "    .dataframe thead th {\n",
       "        text-align: right;\n",
       "    }\n",
       "</style>\n",
       "<table border=\"1\" class=\"dataframe\">\n",
       "  <thead>\n",
       "    <tr style=\"text-align: right;\">\n",
       "      <th></th>\n",
       "      <th>siz</th>\n",
       "      <th>frequency</th>\n",
       "      <th>opacity</th>\n",
       "      <th>focus</th>\n",
       "      <th>squelch</th>\n",
       "      <th>barity</th>\n",
       "    </tr>\n",
       "    <tr>\n",
       "      <th>color</th>\n",
       "      <th></th>\n",
       "      <th></th>\n",
       "      <th></th>\n",
       "      <th></th>\n",
       "      <th></th>\n",
       "      <th></th>\n",
       "    </tr>\n",
       "  </thead>\n",
       "  <tbody>\n",
       "    <tr>\n",
       "      <th>blue</th>\n",
       "      <td>large</td>\n",
       "      <td>1720</td>\n",
       "      <td>1540</td>\n",
       "      <td>440</td>\n",
       "      <td>2069</td>\n",
       "      <td>9790</td>\n",
       "    </tr>\n",
       "    <tr>\n",
       "      <th>blue</th>\n",
       "      <td>large</td>\n",
       "      <td>1762</td>\n",
       "      <td>2284</td>\n",
       "      <td>626</td>\n",
       "      <td>2100</td>\n",
       "      <td>9965</td>\n",
       "    </tr>\n",
       "    <tr>\n",
       "      <th>blue</th>\n",
       "      <td>medium</td>\n",
       "      <td>2551</td>\n",
       "      <td>1708</td>\n",
       "      <td>432</td>\n",
       "      <td>1366</td>\n",
       "      <td>8336</td>\n",
       "    </tr>\n",
       "    <tr>\n",
       "      <th>blue</th>\n",
       "      <td>medium</td>\n",
       "      <td>2918</td>\n",
       "      <td>1790</td>\n",
       "      <td>817</td>\n",
       "      <td>1504</td>\n",
       "      <td>8385</td>\n",
       "    </tr>\n",
       "    <tr>\n",
       "      <th>blue</th>\n",
       "      <td>small</td>\n",
       "      <td>3371</td>\n",
       "      <td>2165</td>\n",
       "      <td>756</td>\n",
       "      <td>749</td>\n",
       "      <td>4498</td>\n",
       "    </tr>\n",
       "  </tbody>\n",
       "</table>\n",
       "</div>"
      ],
      "text/plain": [
       "          siz  frequency  opacity  focus  squelch  barity\n",
       "color                                                    \n",
       "blue    large       1720     1540    440     2069    9790\n",
       "blue    large       1762     2284    626     2100    9965\n",
       "blue   medium       2551     1708    432     1366    8336\n",
       "blue   medium       2918     1790    817     1504    8385\n",
       "blue    small       3371     2165    756      749    4498"
      ]
     },
     "execution_count": 8,
     "metadata": {},
     "output_type": "execute_result"
    }
   ],
   "source": [
    "# Return the rows with an index label of 'blue'\n",
    "df.set_index('color').loc['blue'].head()"
   ]
  },
  {
   "cell_type": "markdown",
   "metadata": {},
   "source": [
    "The last important row indexer is the Boolean indexer, which uses a comparison on a column to a value to produce a series of True or False values, which are then used to select rows. "
   ]
  },
  {
   "cell_type": "code",
   "execution_count": 9,
   "metadata": {},
   "outputs": [
    {
     "data": {
      "text/html": [
       "<div>\n",
       "<style scoped>\n",
       "    .dataframe tbody tr th:only-of-type {\n",
       "        vertical-align: middle;\n",
       "    }\n",
       "\n",
       "    .dataframe tbody tr th {\n",
       "        vertical-align: top;\n",
       "    }\n",
       "\n",
       "    .dataframe thead th {\n",
       "        text-align: right;\n",
       "    }\n",
       "</style>\n",
       "<table border=\"1\" class=\"dataframe\">\n",
       "  <thead>\n",
       "    <tr style=\"text-align: right;\">\n",
       "      <th></th>\n",
       "      <th>color</th>\n",
       "      <th>siz</th>\n",
       "      <th>frequency</th>\n",
       "      <th>opacity</th>\n",
       "      <th>focus</th>\n",
       "      <th>squelch</th>\n",
       "      <th>barity</th>\n",
       "    </tr>\n",
       "  </thead>\n",
       "  <tbody>\n",
       "    <tr>\n",
       "      <th>0</th>\n",
       "      <td>blue</td>\n",
       "      <td>large</td>\n",
       "      <td>1720</td>\n",
       "      <td>1540</td>\n",
       "      <td>440</td>\n",
       "      <td>2069</td>\n",
       "      <td>9790</td>\n",
       "    </tr>\n",
       "    <tr>\n",
       "      <th>1</th>\n",
       "      <td>blue</td>\n",
       "      <td>large</td>\n",
       "      <td>1762</td>\n",
       "      <td>2284</td>\n",
       "      <td>626</td>\n",
       "      <td>2100</td>\n",
       "      <td>9965</td>\n",
       "    </tr>\n",
       "    <tr>\n",
       "      <th>2</th>\n",
       "      <td>blue</td>\n",
       "      <td>medium</td>\n",
       "      <td>2551</td>\n",
       "      <td>1708</td>\n",
       "      <td>432</td>\n",
       "      <td>1366</td>\n",
       "      <td>8336</td>\n",
       "    </tr>\n",
       "    <tr>\n",
       "      <th>3</th>\n",
       "      <td>blue</td>\n",
       "      <td>medium</td>\n",
       "      <td>2918</td>\n",
       "      <td>1790</td>\n",
       "      <td>817</td>\n",
       "      <td>1504</td>\n",
       "      <td>8385</td>\n",
       "    </tr>\n",
       "    <tr>\n",
       "      <th>4</th>\n",
       "      <td>blue</td>\n",
       "      <td>small</td>\n",
       "      <td>3371</td>\n",
       "      <td>2165</td>\n",
       "      <td>756</td>\n",
       "      <td>749</td>\n",
       "      <td>4498</td>\n",
       "    </tr>\n",
       "    <tr>\n",
       "      <th>5</th>\n",
       "      <td>blue</td>\n",
       "      <td>small</td>\n",
       "      <td>4799</td>\n",
       "      <td>2075</td>\n",
       "      <td>401</td>\n",
       "      <td>658</td>\n",
       "      <td>4374</td>\n",
       "    </tr>\n",
       "  </tbody>\n",
       "</table>\n",
       "</div>"
      ],
      "text/plain": [
       "  color     siz  frequency  opacity  focus  squelch  barity\n",
       "0  blue   large       1720     1540    440     2069    9790\n",
       "1  blue   large       1762     2284    626     2100    9965\n",
       "2  blue  medium       2551     1708    432     1366    8336\n",
       "3  blue  medium       2918     1790    817     1504    8385\n",
       "4  blue   small       3371     2165    756      749    4498\n",
       "5  blue   small       4799     2075    401      658    4374"
      ]
     },
     "execution_count": 9,
     "metadata": {},
     "output_type": "execute_result"
    }
   ],
   "source": [
    "# Return rows where the color is \"blue\"\n",
    "\n",
    "df[df.color=='blue']"
   ]
  },
  {
   "cell_type": "markdown",
   "metadata": {},
   "source": [
    "\n",
    "Here is another way to look at the row indexer ``df[df.color=='blue']``. Since the indexer is attached to ``df``, it looks like it should index columns. The difference is the datatype of the object inside the brackets. You could also write this indexer as: \n",
    "\n",
    "```python \n",
    "idx = (df.color=='blue')\n",
    "df[idx]\n",
    "```\n",
    "\n",
    "The ``idx`` variable now holds a ``pandas.Series``, and the values of the series are booleans, ``True`` or ``False``. \n",
    "\n",
    "```\n",
    "[In] df.color=='blue'\n",
    "[Out] \n",
    "0      True\n",
    "1      True\n",
    "2      True\n",
    "3      False\n",
    "4      False\n",
    "5      True\n",
    "6      True\n",
    "7      True\n",
    "8      True\n",
    "```\n",
    "\n",
    "The indexer can detect the difference between a list of strings ( which returns columns ) and a ``Series`` of booleans, which returns rows. \n",
    "\n"
   ]
  },
  {
   "cell_type": "markdown",
   "metadata": {},
   "source": [
    "## Slicing\n",
    "\n",
    "All of the indexer can actually handle a more complex specification for what rows to return, using Python Slice notation. Slice notation is defined for lists in Python, and is carried over to Pandas, so we can explore how it works forst with Python Lists. Here is a simple list and a slice:\n",
    "\n"
   ]
  },
  {
   "cell_type": "code",
   "execution_count": 10,
   "metadata": {},
   "outputs": [
    {
     "data": {
      "text/plain": [
       "['c', 'd']"
      ]
     },
     "execution_count": 10,
     "metadata": {},
     "output_type": "execute_result"
    }
   ],
   "source": [
    "l = ['a','b','c','d','e']\n",
    "\n",
    "# This will give you the values between the 2 and 4 positions:\n",
    "l[2:4]\n"
   ]
  },
  {
   "cell_type": "markdown",
   "metadata": {},
   "source": [
    "The way to read the slice notataion is to imagine that the numbers point between the elements of the list, and the numbering starts from zero: \n",
    "\n",
    "```\n",
    " 'a' 'b' 'c' 'd' 'e'\n",
    "0   1   2   3   4   5 \n",
    "```\n",
    "\n",
    "So the notation ``[2:4]`` will return all of the values between 2 and 4, which are 'c' and 'd'. \n",
    "\n",
    "You can also describe the slice with negative numbers, which start from the right: \n",
    "\n",
    "```\n",
    "  'a'  'b'  'c'  'd'  'e'\n",
    "-5   -4   -3   -2   -1   0 \n",
    "```\n",
    "\n",
    "Using this notation, you can also get 'c' and 'd', indexing from the back\n"
   ]
  },
  {
   "cell_type": "code",
   "execution_count": 11,
   "metadata": {},
   "outputs": [
    {
     "data": {
      "text/plain": [
       "['c', 'd']"
      ]
     },
     "execution_count": 11,
     "metadata": {},
     "output_type": "execute_result"
    }
   ],
   "source": [
    "l[-3:-1]"
   ]
  },
  {
   "cell_type": "markdown",
   "metadata": {},
   "source": [
    "The more useful way to use negative slices is to cut off some elements, for instance, to get rid of the first and last elements: "
   ]
  },
  {
   "cell_type": "code",
   "execution_count": 12,
   "metadata": {},
   "outputs": [
    {
     "data": {
      "text/plain": [
       "['b', 'c', 'd']"
      ]
     },
     "execution_count": 12,
     "metadata": {},
     "output_type": "execute_result"
    }
   ],
   "source": [
    "l[1:-1]"
   ]
  },
  {
   "cell_type": "markdown",
   "metadata": {},
   "source": [
    "Python handles these slices in a tricky way; it actually converts them to an object before sending them to the indexer function, and you can create that object manually. ( Sometimes you have to ... ). The object is created with ``slice()``,  So, the last inder operation could also be written as: \n"
   ]
  },
  {
   "cell_type": "code",
   "execution_count": 13,
   "metadata": {},
   "outputs": [
    {
     "data": {
      "text/plain": [
       "['b', 'c', 'd']"
      ]
     },
     "execution_count": 13,
     "metadata": {},
     "output_type": "execute_result"
    }
   ],
   "source": [
    "l[slice(1,-1)]"
   ]
  },
  {
   "cell_type": "markdown",
   "metadata": {},
   "source": [
    "Slice notation is particularly useful for the ``df.iloc[]`` indexer. For instance, to get the 10th through the 20th rows: "
   ]
  },
  {
   "cell_type": "code",
   "execution_count": 14,
   "metadata": {},
   "outputs": [
    {
     "data": {
      "text/html": [
       "<div>\n",
       "<style scoped>\n",
       "    .dataframe tbody tr th:only-of-type {\n",
       "        vertical-align: middle;\n",
       "    }\n",
       "\n",
       "    .dataframe tbody tr th {\n",
       "        vertical-align: top;\n",
       "    }\n",
       "\n",
       "    .dataframe thead th {\n",
       "        text-align: right;\n",
       "    }\n",
       "</style>\n",
       "<table border=\"1\" class=\"dataframe\">\n",
       "  <thead>\n",
       "    <tr style=\"text-align: right;\">\n",
       "      <th></th>\n",
       "      <th>color</th>\n",
       "      <th>siz</th>\n",
       "      <th>frequency</th>\n",
       "      <th>opacity</th>\n",
       "      <th>focus</th>\n",
       "      <th>squelch</th>\n",
       "      <th>barity</th>\n",
       "    </tr>\n",
       "  </thead>\n",
       "  <tbody>\n",
       "    <tr>\n",
       "      <th>10</th>\n",
       "      <td>green</td>\n",
       "      <td>small</td>\n",
       "      <td>4616</td>\n",
       "      <td>2105</td>\n",
       "      <td>881</td>\n",
       "      <td>636</td>\n",
       "      <td>6151</td>\n",
       "    </tr>\n",
       "    <tr>\n",
       "      <th>11</th>\n",
       "      <td>green</td>\n",
       "      <td>small</td>\n",
       "      <td>2601</td>\n",
       "      <td>1757</td>\n",
       "      <td>1015</td>\n",
       "      <td>535</td>\n",
       "      <td>6411</td>\n",
       "    </tr>\n",
       "    <tr>\n",
       "      <th>12</th>\n",
       "      <td>orange</td>\n",
       "      <td>large</td>\n",
       "      <td>1584</td>\n",
       "      <td>1776</td>\n",
       "      <td>2365</td>\n",
       "      <td>2226</td>\n",
       "      <td>22948</td>\n",
       "    </tr>\n",
       "    <tr>\n",
       "      <th>13</th>\n",
       "      <td>orange</td>\n",
       "      <td>large</td>\n",
       "      <td>2184</td>\n",
       "      <td>1535</td>\n",
       "      <td>2447</td>\n",
       "      <td>2108</td>\n",
       "      <td>22675</td>\n",
       "    </tr>\n",
       "    <tr>\n",
       "      <th>14</th>\n",
       "      <td>orange</td>\n",
       "      <td>medium</td>\n",
       "      <td>4326</td>\n",
       "      <td>1711</td>\n",
       "      <td>1177</td>\n",
       "      <td>1428</td>\n",
       "      <td>23527</td>\n",
       "    </tr>\n",
       "    <tr>\n",
       "      <th>15</th>\n",
       "      <td>orange</td>\n",
       "      <td>medium</td>\n",
       "      <td>1142</td>\n",
       "      <td>1662</td>\n",
       "      <td>2094</td>\n",
       "      <td>1408</td>\n",
       "      <td>23565</td>\n",
       "    </tr>\n",
       "    <tr>\n",
       "      <th>16</th>\n",
       "      <td>orange</td>\n",
       "      <td>small</td>\n",
       "      <td>3515</td>\n",
       "      <td>1822</td>\n",
       "      <td>1219</td>\n",
       "      <td>662</td>\n",
       "      <td>23049</td>\n",
       "    </tr>\n",
       "    <tr>\n",
       "      <th>17</th>\n",
       "      <td>orange</td>\n",
       "      <td>small</td>\n",
       "      <td>1455</td>\n",
       "      <td>1876</td>\n",
       "      <td>1332</td>\n",
       "      <td>800</td>\n",
       "      <td>23267</td>\n",
       "    </tr>\n",
       "    <tr>\n",
       "      <th>18</th>\n",
       "      <td>red</td>\n",
       "      <td>large</td>\n",
       "      <td>2334</td>\n",
       "      <td>1522</td>\n",
       "      <td>363</td>\n",
       "      <td>2270</td>\n",
       "      <td>3128</td>\n",
       "    </tr>\n",
       "    <tr>\n",
       "      <th>19</th>\n",
       "      <td>red</td>\n",
       "      <td>large</td>\n",
       "      <td>1509</td>\n",
       "      <td>1803</td>\n",
       "      <td>234</td>\n",
       "      <td>2081</td>\n",
       "      <td>3133</td>\n",
       "    </tr>\n",
       "  </tbody>\n",
       "</table>\n",
       "</div>"
      ],
      "text/plain": [
       "     color     siz  frequency  opacity  focus  squelch  barity\n",
       "10   green   small       4616     2105    881      636    6151\n",
       "11   green   small       2601     1757   1015      535    6411\n",
       "12  orange   large       1584     1776   2365     2226   22948\n",
       "13  orange   large       2184     1535   2447     2108   22675\n",
       "14  orange  medium       4326     1711   1177     1428   23527\n",
       "15  orange  medium       1142     1662   2094     1408   23565\n",
       "16  orange   small       3515     1822   1219      662   23049\n",
       "17  orange   small       1455     1876   1332      800   23267\n",
       "18     red   large       2334     1522    363     2270    3128\n",
       "19     red   large       1509     1803    234     2081    3133"
      ]
     },
     "execution_count": 14,
     "metadata": {},
     "output_type": "execute_result"
    }
   ],
   "source": [
    "df.iloc[10:20]"
   ]
  },
  {
   "cell_type": "markdown",
   "metadata": {},
   "source": [
    "Or, to get the last 5:"
   ]
  },
  {
   "cell_type": "code",
   "execution_count": 15,
   "metadata": {},
   "outputs": [
    {
     "data": {
      "text/html": [
       "<div>\n",
       "<style scoped>\n",
       "    .dataframe tbody tr th:only-of-type {\n",
       "        vertical-align: middle;\n",
       "    }\n",
       "\n",
       "    .dataframe tbody tr th {\n",
       "        vertical-align: top;\n",
       "    }\n",
       "\n",
       "    .dataframe thead th {\n",
       "        text-align: right;\n",
       "    }\n",
       "</style>\n",
       "<table border=\"1\" class=\"dataframe\">\n",
       "  <thead>\n",
       "    <tr style=\"text-align: right;\">\n",
       "      <th></th>\n",
       "      <th>color</th>\n",
       "      <th>siz</th>\n",
       "      <th>frequency</th>\n",
       "      <th>opacity</th>\n",
       "      <th>focus</th>\n",
       "      <th>squelch</th>\n",
       "      <th>barity</th>\n",
       "    </tr>\n",
       "  </thead>\n",
       "  <tbody>\n",
       "    <tr>\n",
       "      <th>25</th>\n",
       "      <td>yellow</td>\n",
       "      <td>large</td>\n",
       "      <td>4588</td>\n",
       "      <td>1454</td>\n",
       "      <td>1756</td>\n",
       "      <td>2130</td>\n",
       "      <td>8453</td>\n",
       "    </tr>\n",
       "    <tr>\n",
       "      <th>26</th>\n",
       "      <td>yellow</td>\n",
       "      <td>medium</td>\n",
       "      <td>2186</td>\n",
       "      <td>2091</td>\n",
       "      <td>879</td>\n",
       "      <td>1204</td>\n",
       "      <td>11341</td>\n",
       "    </tr>\n",
       "    <tr>\n",
       "      <th>27</th>\n",
       "      <td>yellow</td>\n",
       "      <td>medium</td>\n",
       "      <td>4580</td>\n",
       "      <td>1808</td>\n",
       "      <td>1761</td>\n",
       "      <td>1392</td>\n",
       "      <td>11475</td>\n",
       "    </tr>\n",
       "    <tr>\n",
       "      <th>28</th>\n",
       "      <td>yellow</td>\n",
       "      <td>small</td>\n",
       "      <td>1611</td>\n",
       "      <td>1502</td>\n",
       "      <td>1104</td>\n",
       "      <td>600</td>\n",
       "      <td>10148</td>\n",
       "    </tr>\n",
       "    <tr>\n",
       "      <th>29</th>\n",
       "      <td>yellow</td>\n",
       "      <td>small</td>\n",
       "      <td>1724</td>\n",
       "      <td>1886</td>\n",
       "      <td>1175</td>\n",
       "      <td>647</td>\n",
       "      <td>10061</td>\n",
       "    </tr>\n",
       "  </tbody>\n",
       "</table>\n",
       "</div>"
      ],
      "text/plain": [
       "     color     siz  frequency  opacity  focus  squelch  barity\n",
       "25  yellow   large       4588     1454   1756     2130    8453\n",
       "26  yellow  medium       2186     2091    879     1204   11341\n",
       "27  yellow  medium       4580     1808   1761     1392   11475\n",
       "28  yellow   small       1611     1502   1104      600   10148\n",
       "29  yellow   small       1724     1886   1175      647   10061"
      ]
     },
     "execution_count": 15,
     "metadata": {},
     "output_type": "execute_result"
    }
   ],
   "source": [
    "df.iloc[-5:] # Leaving off the last part of the slice defaults to the end"
   ]
  },
  {
   "cell_type": "markdown",
   "metadata": {},
   "source": [
    "## Extended Slice Notation\n",
    "\n",
    "Python lists are one dimensional, but Pandas has two dimensional tables, so pandas has an extended slice notation, where the indexer can take a **tuple**. A tuple is a lot like a list, but it is defined with parenthesis, and it can't be changed after it is created. So, one of our past examples could have been written with a tuple instead of a list: \n",
    "\n"
   ]
  },
  {
   "cell_type": "code",
   "execution_count": 16,
   "metadata": {},
   "outputs": [
    {
     "data": {
      "text/plain": [
       "('c', 'd')"
      ]
     },
     "execution_count": 16,
     "metadata": {},
     "output_type": "execute_result"
    }
   ],
   "source": [
    "l = ('a','b','c','d','e')\n",
    "l[2:4]"
   ]
  },
  {
   "cell_type": "markdown",
   "metadata": {},
   "source": [
    "In Python, nearly all of the time you see things separated by commas between parenthesis -- like ``1,2,3`` -- it is a tuple. The tuple does not require the parenthesis, just the commas. So our example above could also have been written as:\n",
    "\n",
    "```python \n",
    "l = 'a','b','c','d','e'\n",
    "l[2:4]\n",
    "```\n",
    "\n",
    "However, it is good style to use parentheses to make the tuple explicit. \n",
    "\n",
    "Some pandas indexers can take tuples to indicate a slice of both the rows and the columns of a dataframe. for instance in our ``df`` dataframe:\n",
    "\n"
   ]
  },
  {
   "cell_type": "code",
   "execution_count": 17,
   "metadata": {},
   "outputs": [
    {
     "data": {
      "text/html": [
       "<div>\n",
       "<style scoped>\n",
       "    .dataframe tbody tr th:only-of-type {\n",
       "        vertical-align: middle;\n",
       "    }\n",
       "\n",
       "    .dataframe tbody tr th {\n",
       "        vertical-align: top;\n",
       "    }\n",
       "\n",
       "    .dataframe thead th {\n",
       "        text-align: right;\n",
       "    }\n",
       "</style>\n",
       "<table border=\"1\" class=\"dataframe\">\n",
       "  <thead>\n",
       "    <tr style=\"text-align: right;\">\n",
       "      <th></th>\n",
       "      <th>color</th>\n",
       "      <th>siz</th>\n",
       "      <th>frequency</th>\n",
       "      <th>opacity</th>\n",
       "      <th>focus</th>\n",
       "      <th>squelch</th>\n",
       "      <th>barity</th>\n",
       "    </tr>\n",
       "  </thead>\n",
       "  <tbody>\n",
       "    <tr>\n",
       "      <th>0</th>\n",
       "      <td>blue</td>\n",
       "      <td>large</td>\n",
       "      <td>1720</td>\n",
       "      <td>1540</td>\n",
       "      <td>440</td>\n",
       "      <td>2069</td>\n",
       "      <td>9790</td>\n",
       "    </tr>\n",
       "    <tr>\n",
       "      <th>1</th>\n",
       "      <td>blue</td>\n",
       "      <td>large</td>\n",
       "      <td>1762</td>\n",
       "      <td>2284</td>\n",
       "      <td>626</td>\n",
       "      <td>2100</td>\n",
       "      <td>9965</td>\n",
       "    </tr>\n",
       "    <tr>\n",
       "      <th>2</th>\n",
       "      <td>blue</td>\n",
       "      <td>medium</td>\n",
       "      <td>2551</td>\n",
       "      <td>1708</td>\n",
       "      <td>432</td>\n",
       "      <td>1366</td>\n",
       "      <td>8336</td>\n",
       "    </tr>\n",
       "    <tr>\n",
       "      <th>3</th>\n",
       "      <td>blue</td>\n",
       "      <td>medium</td>\n",
       "      <td>2918</td>\n",
       "      <td>1790</td>\n",
       "      <td>817</td>\n",
       "      <td>1504</td>\n",
       "      <td>8385</td>\n",
       "    </tr>\n",
       "    <tr>\n",
       "      <th>4</th>\n",
       "      <td>blue</td>\n",
       "      <td>small</td>\n",
       "      <td>3371</td>\n",
       "      <td>2165</td>\n",
       "      <td>756</td>\n",
       "      <td>749</td>\n",
       "      <td>4498</td>\n",
       "    </tr>\n",
       "  </tbody>\n",
       "</table>\n",
       "</div>"
      ],
      "text/plain": [
       "  color     siz  frequency  opacity  focus  squelch  barity\n",
       "0  blue   large       1720     1540    440     2069    9790\n",
       "1  blue   large       1762     2284    626     2100    9965\n",
       "2  blue  medium       2551     1708    432     1366    8336\n",
       "3  blue  medium       2918     1790    817     1504    8385\n",
       "4  blue   small       3371     2165    756      749    4498"
      ]
     },
     "execution_count": 17,
     "metadata": {},
     "output_type": "execute_result"
    }
   ],
   "source": [
    "df.head()"
   ]
  },
  {
   "cell_type": "markdown",
   "metadata": {},
   "source": [
    "The value in the second row ( index label is '1' ) and the third column ( column label is 'frequency' ) is `1708`. We can get this value by giving the ``df.iloc`` indexer an explict request for the second row and third column, with a comma"
   ]
  },
  {
   "cell_type": "code",
   "execution_count": 18,
   "metadata": {},
   "outputs": [
    {
     "data": {
      "text/plain": [
       "1708"
      ]
     },
     "execution_count": 18,
     "metadata": {},
     "output_type": "execute_result"
    }
   ],
   "source": [
    "df.iloc[2,3] # Or, more explicitly: df.iloc[(2,3)]"
   ]
  },
  {
   "cell_type": "markdown",
   "metadata": {},
   "source": [
    "The top level tuple, elements separated by a comma, indicates that we want to index both the rows and the columns. Each of those elements can also be slices, so if we wanted to get a range of columns and rows: \n"
   ]
  },
  {
   "cell_type": "code",
   "execution_count": 19,
   "metadata": {},
   "outputs": [
    {
     "data": {
      "text/html": [
       "<div>\n",
       "<style scoped>\n",
       "    .dataframe tbody tr th:only-of-type {\n",
       "        vertical-align: middle;\n",
       "    }\n",
       "\n",
       "    .dataframe tbody tr th {\n",
       "        vertical-align: top;\n",
       "    }\n",
       "\n",
       "    .dataframe thead th {\n",
       "        text-align: right;\n",
       "    }\n",
       "</style>\n",
       "<table border=\"1\" class=\"dataframe\">\n",
       "  <thead>\n",
       "    <tr style=\"text-align: right;\">\n",
       "      <th></th>\n",
       "      <th>focus</th>\n",
       "      <th>squelch</th>\n",
       "    </tr>\n",
       "  </thead>\n",
       "  <tbody>\n",
       "    <tr>\n",
       "      <th>2</th>\n",
       "      <td>432</td>\n",
       "      <td>1366</td>\n",
       "    </tr>\n",
       "    <tr>\n",
       "      <th>3</th>\n",
       "      <td>817</td>\n",
       "      <td>1504</td>\n",
       "    </tr>\n",
       "  </tbody>\n",
       "</table>\n",
       "</div>"
      ],
      "text/plain": [
       "   focus  squelch\n",
       "2    432     1366\n",
       "3    817     1504"
      ]
     },
     "execution_count": 19,
     "metadata": {},
     "output_type": "execute_result"
    }
   ],
   "source": [
    "df.iloc[ 2:4,4:6]"
   ]
  },
  {
   "cell_type": "markdown",
   "metadata": {},
   "source": [
    "To be really clear about what is being created here: the things on either side of the comma are slices, and the comma binds them together into a tuple. So, the indexer above is shorthand for:"
   ]
  },
  {
   "cell_type": "code",
   "execution_count": 20,
   "metadata": {},
   "outputs": [
    {
     "data": {
      "text/html": [
       "<div>\n",
       "<style scoped>\n",
       "    .dataframe tbody tr th:only-of-type {\n",
       "        vertical-align: middle;\n",
       "    }\n",
       "\n",
       "    .dataframe tbody tr th {\n",
       "        vertical-align: top;\n",
       "    }\n",
       "\n",
       "    .dataframe thead th {\n",
       "        text-align: right;\n",
       "    }\n",
       "</style>\n",
       "<table border=\"1\" class=\"dataframe\">\n",
       "  <thead>\n",
       "    <tr style=\"text-align: right;\">\n",
       "      <th></th>\n",
       "      <th>focus</th>\n",
       "      <th>squelch</th>\n",
       "    </tr>\n",
       "  </thead>\n",
       "  <tbody>\n",
       "    <tr>\n",
       "      <th>2</th>\n",
       "      <td>432</td>\n",
       "      <td>1366</td>\n",
       "    </tr>\n",
       "    <tr>\n",
       "      <th>3</th>\n",
       "      <td>817</td>\n",
       "      <td>1504</td>\n",
       "    </tr>\n",
       "  </tbody>\n",
       "</table>\n",
       "</div>"
      ],
      "text/plain": [
       "   focus  squelch\n",
       "2    432     1366\n",
       "3    817     1504"
      ]
     },
     "execution_count": 20,
     "metadata": {},
     "output_type": "execute_result"
    }
   ],
   "source": [
    "rows = slice(2,4)\n",
    "columns = slice(4,6)\n",
    "idx = (rows, columns)\n",
    "\n",
    "df.iloc[idx]\n"
   ]
  },
  {
   "cell_type": "markdown",
   "metadata": {},
   "source": [
    "### Fully Specified Indexes\n",
    "\n",
    "One more complication is that instead of slices, you can also list the items from the index that you want to use. So in the above examples, ``slice(2,4)`` is equivalent to directly listing rows 2 and 3, and ``slice(4,6)`` is equivalent to directly listing columns 4 and 5. However, the indexer already has a specical meaning for tuples, so to directly specify the items, you have to use a list, which are created with the square brackets instead of parenthesis. (There are other cases where you can use tuples. )"
   ]
  },
  {
   "cell_type": "code",
   "execution_count": 21,
   "metadata": {},
   "outputs": [
    {
     "data": {
      "text/html": [
       "<div>\n",
       "<style scoped>\n",
       "    .dataframe tbody tr th:only-of-type {\n",
       "        vertical-align: middle;\n",
       "    }\n",
       "\n",
       "    .dataframe tbody tr th {\n",
       "        vertical-align: top;\n",
       "    }\n",
       "\n",
       "    .dataframe thead th {\n",
       "        text-align: right;\n",
       "    }\n",
       "</style>\n",
       "<table border=\"1\" class=\"dataframe\">\n",
       "  <thead>\n",
       "    <tr style=\"text-align: right;\">\n",
       "      <th></th>\n",
       "      <th>focus</th>\n",
       "      <th>squelch</th>\n",
       "    </tr>\n",
       "  </thead>\n",
       "  <tbody>\n",
       "    <tr>\n",
       "      <th>2</th>\n",
       "      <td>432</td>\n",
       "      <td>1366</td>\n",
       "    </tr>\n",
       "    <tr>\n",
       "      <th>3</th>\n",
       "      <td>817</td>\n",
       "      <td>1504</td>\n",
       "    </tr>\n",
       "  </tbody>\n",
       "</table>\n",
       "</div>"
      ],
      "text/plain": [
       "   focus  squelch\n",
       "2    432     1366\n",
       "3    817     1504"
      ]
     },
     "execution_count": 21,
     "metadata": {},
     "output_type": "execute_result"
    }
   ],
   "source": [
    "rows = [2,3]\n",
    "columns = [4,5]\n",
    "idx = (rows, columns)\n",
    "\n",
    "df.iloc[idx]"
   ]
  },
  {
   "cell_type": "markdown",
   "metadata": {},
   "source": [
    "Or, more compactly: "
   ]
  },
  {
   "cell_type": "code",
   "execution_count": 22,
   "metadata": {},
   "outputs": [
    {
     "data": {
      "text/html": [
       "<div>\n",
       "<style scoped>\n",
       "    .dataframe tbody tr th:only-of-type {\n",
       "        vertical-align: middle;\n",
       "    }\n",
       "\n",
       "    .dataframe tbody tr th {\n",
       "        vertical-align: top;\n",
       "    }\n",
       "\n",
       "    .dataframe thead th {\n",
       "        text-align: right;\n",
       "    }\n",
       "</style>\n",
       "<table border=\"1\" class=\"dataframe\">\n",
       "  <thead>\n",
       "    <tr style=\"text-align: right;\">\n",
       "      <th></th>\n",
       "      <th>focus</th>\n",
       "      <th>squelch</th>\n",
       "    </tr>\n",
       "  </thead>\n",
       "  <tbody>\n",
       "    <tr>\n",
       "      <th>2</th>\n",
       "      <td>432</td>\n",
       "      <td>1366</td>\n",
       "    </tr>\n",
       "    <tr>\n",
       "      <th>3</th>\n",
       "      <td>817</td>\n",
       "      <td>1504</td>\n",
       "    </tr>\n",
       "  </tbody>\n",
       "</table>\n",
       "</div>"
      ],
      "text/plain": [
       "   focus  squelch\n",
       "2    432     1366\n",
       "3    817     1504"
      ]
     },
     "execution_count": 22,
     "metadata": {},
     "output_type": "execute_result"
    }
   ],
   "source": [
    "df.iloc[ [2,3],[4,5] ]"
   ]
  },
  {
   "cell_type": "markdown",
   "metadata": {},
   "source": [
    "The ``df.iloc[]`` indexer is handy, but you rarely want to use the row numbers to slice tables; index labels are much more useful. So, let's set an index on the dataframe and use labels. First, set the index. "
   ]
  },
  {
   "cell_type": "code",
   "execution_count": 23,
   "metadata": {},
   "outputs": [
    {
     "data": {
      "text/html": [
       "<div>\n",
       "<style scoped>\n",
       "    .dataframe tbody tr th:only-of-type {\n",
       "        vertical-align: middle;\n",
       "    }\n",
       "\n",
       "    .dataframe tbody tr th {\n",
       "        vertical-align: top;\n",
       "    }\n",
       "\n",
       "    .dataframe thead th {\n",
       "        text-align: right;\n",
       "    }\n",
       "</style>\n",
       "<table border=\"1\" class=\"dataframe\">\n",
       "  <thead>\n",
       "    <tr style=\"text-align: right;\">\n",
       "      <th></th>\n",
       "      <th>siz</th>\n",
       "      <th>frequency</th>\n",
       "      <th>opacity</th>\n",
       "      <th>focus</th>\n",
       "      <th>squelch</th>\n",
       "      <th>barity</th>\n",
       "    </tr>\n",
       "    <tr>\n",
       "      <th>color</th>\n",
       "      <th></th>\n",
       "      <th></th>\n",
       "      <th></th>\n",
       "      <th></th>\n",
       "      <th></th>\n",
       "      <th></th>\n",
       "    </tr>\n",
       "  </thead>\n",
       "  <tbody>\n",
       "    <tr>\n",
       "      <th>blue</th>\n",
       "      <td>large</td>\n",
       "      <td>1720</td>\n",
       "      <td>1540</td>\n",
       "      <td>440</td>\n",
       "      <td>2069</td>\n",
       "      <td>9790</td>\n",
       "    </tr>\n",
       "    <tr>\n",
       "      <th>blue</th>\n",
       "      <td>large</td>\n",
       "      <td>1762</td>\n",
       "      <td>2284</td>\n",
       "      <td>626</td>\n",
       "      <td>2100</td>\n",
       "      <td>9965</td>\n",
       "    </tr>\n",
       "    <tr>\n",
       "      <th>blue</th>\n",
       "      <td>medium</td>\n",
       "      <td>2551</td>\n",
       "      <td>1708</td>\n",
       "      <td>432</td>\n",
       "      <td>1366</td>\n",
       "      <td>8336</td>\n",
       "    </tr>\n",
       "    <tr>\n",
       "      <th>blue</th>\n",
       "      <td>medium</td>\n",
       "      <td>2918</td>\n",
       "      <td>1790</td>\n",
       "      <td>817</td>\n",
       "      <td>1504</td>\n",
       "      <td>8385</td>\n",
       "    </tr>\n",
       "    <tr>\n",
       "      <th>blue</th>\n",
       "      <td>small</td>\n",
       "      <td>3371</td>\n",
       "      <td>2165</td>\n",
       "      <td>756</td>\n",
       "      <td>749</td>\n",
       "      <td>4498</td>\n",
       "    </tr>\n",
       "  </tbody>\n",
       "</table>\n",
       "</div>"
      ],
      "text/plain": [
       "          siz  frequency  opacity  focus  squelch  barity\n",
       "color                                                    \n",
       "blue    large       1720     1540    440     2069    9790\n",
       "blue    large       1762     2284    626     2100    9965\n",
       "blue   medium       2551     1708    432     1366    8336\n",
       "blue   medium       2918     1790    817     1504    8385\n",
       "blue    small       3371     2165    756      749    4498"
      ]
     },
     "execution_count": 23,
     "metadata": {},
     "output_type": "execute_result"
    }
   ],
   "source": [
    "df_i = df.set_index('color')\n",
    "df_i.head()"
   ]
  },
  {
   "cell_type": "markdown",
   "metadata": {},
   "source": [
    "Then we can use the ``df.loc[]`` indexer, with index labels, to get rows. "
   ]
  },
  {
   "cell_type": "code",
   "execution_count": 24,
   "metadata": {},
   "outputs": [
    {
     "data": {
      "text/html": [
       "<div>\n",
       "<style scoped>\n",
       "    .dataframe tbody tr th:only-of-type {\n",
       "        vertical-align: middle;\n",
       "    }\n",
       "\n",
       "    .dataframe tbody tr th {\n",
       "        vertical-align: top;\n",
       "    }\n",
       "\n",
       "    .dataframe thead th {\n",
       "        text-align: right;\n",
       "    }\n",
       "</style>\n",
       "<table border=\"1\" class=\"dataframe\">\n",
       "  <thead>\n",
       "    <tr style=\"text-align: right;\">\n",
       "      <th></th>\n",
       "      <th>siz</th>\n",
       "      <th>frequency</th>\n",
       "      <th>opacity</th>\n",
       "      <th>focus</th>\n",
       "      <th>squelch</th>\n",
       "      <th>barity</th>\n",
       "    </tr>\n",
       "    <tr>\n",
       "      <th>color</th>\n",
       "      <th></th>\n",
       "      <th></th>\n",
       "      <th></th>\n",
       "      <th></th>\n",
       "      <th></th>\n",
       "      <th></th>\n",
       "    </tr>\n",
       "  </thead>\n",
       "  <tbody>\n",
       "    <tr>\n",
       "      <th>blue</th>\n",
       "      <td>large</td>\n",
       "      <td>1720</td>\n",
       "      <td>1540</td>\n",
       "      <td>440</td>\n",
       "      <td>2069</td>\n",
       "      <td>9790</td>\n",
       "    </tr>\n",
       "    <tr>\n",
       "      <th>blue</th>\n",
       "      <td>large</td>\n",
       "      <td>1762</td>\n",
       "      <td>2284</td>\n",
       "      <td>626</td>\n",
       "      <td>2100</td>\n",
       "      <td>9965</td>\n",
       "    </tr>\n",
       "    <tr>\n",
       "      <th>blue</th>\n",
       "      <td>medium</td>\n",
       "      <td>2551</td>\n",
       "      <td>1708</td>\n",
       "      <td>432</td>\n",
       "      <td>1366</td>\n",
       "      <td>8336</td>\n",
       "    </tr>\n",
       "    <tr>\n",
       "      <th>blue</th>\n",
       "      <td>medium</td>\n",
       "      <td>2918</td>\n",
       "      <td>1790</td>\n",
       "      <td>817</td>\n",
       "      <td>1504</td>\n",
       "      <td>8385</td>\n",
       "    </tr>\n",
       "    <tr>\n",
       "      <th>blue</th>\n",
       "      <td>small</td>\n",
       "      <td>3371</td>\n",
       "      <td>2165</td>\n",
       "      <td>756</td>\n",
       "      <td>749</td>\n",
       "      <td>4498</td>\n",
       "    </tr>\n",
       "  </tbody>\n",
       "</table>\n",
       "</div>"
      ],
      "text/plain": [
       "          siz  frequency  opacity  focus  squelch  barity\n",
       "color                                                    \n",
       "blue    large       1720     1540    440     2069    9790\n",
       "blue    large       1762     2284    626     2100    9965\n",
       "blue   medium       2551     1708    432     1366    8336\n",
       "blue   medium       2918     1790    817     1504    8385\n",
       "blue    small       3371     2165    756      749    4498"
      ]
     },
     "execution_count": 24,
     "metadata": {},
     "output_type": "execute_result"
    }
   ],
   "source": [
    "# Get rows with the color blue\n",
    "df_i.loc['blue'].head()"
   ]
  },
  {
   "cell_type": "markdown",
   "metadata": {},
   "source": [
    "To use slices, the indidices must be sorted, which we can do with ``.sort_index()``. We have to do it twice, once for rows(axis 0 ) and a second time for columns ( axis 1)"
   ]
  },
  {
   "cell_type": "code",
   "execution_count": 25,
   "metadata": {},
   "outputs": [
    {
     "data": {
      "text/html": [
       "<div>\n",
       "<style scoped>\n",
       "    .dataframe tbody tr th:only-of-type {\n",
       "        vertical-align: middle;\n",
       "    }\n",
       "\n",
       "    .dataframe tbody tr th {\n",
       "        vertical-align: top;\n",
       "    }\n",
       "\n",
       "    .dataframe thead th {\n",
       "        text-align: right;\n",
       "    }\n",
       "</style>\n",
       "<table border=\"1\" class=\"dataframe\">\n",
       "  <thead>\n",
       "    <tr style=\"text-align: right;\">\n",
       "      <th></th>\n",
       "      <th>barity</th>\n",
       "      <th>focus</th>\n",
       "      <th>frequency</th>\n",
       "      <th>opacity</th>\n",
       "      <th>siz</th>\n",
       "      <th>squelch</th>\n",
       "    </tr>\n",
       "    <tr>\n",
       "      <th>color</th>\n",
       "      <th></th>\n",
       "      <th></th>\n",
       "      <th></th>\n",
       "      <th></th>\n",
       "      <th></th>\n",
       "      <th></th>\n",
       "    </tr>\n",
       "  </thead>\n",
       "  <tbody>\n",
       "    <tr>\n",
       "      <th>blue</th>\n",
       "      <td>9790</td>\n",
       "      <td>440</td>\n",
       "      <td>1720</td>\n",
       "      <td>1540</td>\n",
       "      <td>large</td>\n",
       "      <td>2069</td>\n",
       "    </tr>\n",
       "    <tr>\n",
       "      <th>blue</th>\n",
       "      <td>9965</td>\n",
       "      <td>626</td>\n",
       "      <td>1762</td>\n",
       "      <td>2284</td>\n",
       "      <td>large</td>\n",
       "      <td>2100</td>\n",
       "    </tr>\n",
       "    <tr>\n",
       "      <th>blue</th>\n",
       "      <td>8336</td>\n",
       "      <td>432</td>\n",
       "      <td>2551</td>\n",
       "      <td>1708</td>\n",
       "      <td>medium</td>\n",
       "      <td>1366</td>\n",
       "    </tr>\n",
       "    <tr>\n",
       "      <th>blue</th>\n",
       "      <td>8385</td>\n",
       "      <td>817</td>\n",
       "      <td>2918</td>\n",
       "      <td>1790</td>\n",
       "      <td>medium</td>\n",
       "      <td>1504</td>\n",
       "    </tr>\n",
       "    <tr>\n",
       "      <th>blue</th>\n",
       "      <td>4498</td>\n",
       "      <td>756</td>\n",
       "      <td>3371</td>\n",
       "      <td>2165</td>\n",
       "      <td>small</td>\n",
       "      <td>749</td>\n",
       "    </tr>\n",
       "  </tbody>\n",
       "</table>\n",
       "</div>"
      ],
      "text/plain": [
       "       barity  focus  frequency  opacity     siz  squelch\n",
       "color                                                    \n",
       "blue     9790    440       1720     1540   large     2069\n",
       "blue     9965    626       1762     2284   large     2100\n",
       "blue     8336    432       2551     1708  medium     1366\n",
       "blue     8385    817       2918     1790  medium     1504\n",
       "blue     4498    756       3371     2165   small      749"
      ]
     },
     "execution_count": 25,
     "metadata": {},
     "output_type": "execute_result"
    }
   ],
   "source": [
    "# Sort indicies. \n",
    "df_i = df.set_index('color').sort_index(axis=0).sort_index(axis=1)\n",
    "\n",
    "# Get a range of rows, with colors from 'blue' to 'red'. Slicing on labels requires\n",
    "# that the index is sorted. \n",
    "df_i.loc['blue':'red'].head()"
   ]
  },
  {
   "cell_type": "code",
   "execution_count": 26,
   "metadata": {},
   "outputs": [
    {
     "data": {
      "text/html": [
       "<div>\n",
       "<style scoped>\n",
       "    .dataframe tbody tr th:only-of-type {\n",
       "        vertical-align: middle;\n",
       "    }\n",
       "\n",
       "    .dataframe tbody tr th {\n",
       "        vertical-align: top;\n",
       "    }\n",
       "\n",
       "    .dataframe thead th {\n",
       "        text-align: right;\n",
       "    }\n",
       "</style>\n",
       "<table border=\"1\" class=\"dataframe\">\n",
       "  <thead>\n",
       "    <tr style=\"text-align: right;\">\n",
       "      <th></th>\n",
       "      <th>barity</th>\n",
       "      <th>focus</th>\n",
       "      <th>frequency</th>\n",
       "      <th>opacity</th>\n",
       "    </tr>\n",
       "    <tr>\n",
       "      <th>color</th>\n",
       "      <th></th>\n",
       "      <th></th>\n",
       "      <th></th>\n",
       "      <th></th>\n",
       "    </tr>\n",
       "  </thead>\n",
       "  <tbody>\n",
       "    <tr>\n",
       "      <th>blue</th>\n",
       "      <td>9790</td>\n",
       "      <td>440</td>\n",
       "      <td>1720</td>\n",
       "      <td>1540</td>\n",
       "    </tr>\n",
       "    <tr>\n",
       "      <th>blue</th>\n",
       "      <td>9965</td>\n",
       "      <td>626</td>\n",
       "      <td>1762</td>\n",
       "      <td>2284</td>\n",
       "    </tr>\n",
       "    <tr>\n",
       "      <th>blue</th>\n",
       "      <td>8336</td>\n",
       "      <td>432</td>\n",
       "      <td>2551</td>\n",
       "      <td>1708</td>\n",
       "    </tr>\n",
       "    <tr>\n",
       "      <th>blue</th>\n",
       "      <td>8385</td>\n",
       "      <td>817</td>\n",
       "      <td>2918</td>\n",
       "      <td>1790</td>\n",
       "    </tr>\n",
       "    <tr>\n",
       "      <th>blue</th>\n",
       "      <td>4498</td>\n",
       "      <td>756</td>\n",
       "      <td>3371</td>\n",
       "      <td>2165</td>\n",
       "    </tr>\n",
       "  </tbody>\n",
       "</table>\n",
       "</div>"
      ],
      "text/plain": [
       "       barity  focus  frequency  opacity\n",
       "color                                   \n",
       "blue     9790    440       1720     1540\n",
       "blue     9965    626       1762     2284\n",
       "blue     8336    432       2551     1708\n",
       "blue     8385    817       2918     1790\n",
       "blue     4498    756       3371     2165"
      ]
     },
     "execution_count": 26,
     "metadata": {},
     "output_type": "execute_result"
    }
   ],
   "source": [
    "# Select both rows and columns:\n",
    "df_i.loc['blue':'red', 'barity':'opacity'].head()\n"
   ]
  },
  {
   "cell_type": "code",
   "execution_count": 27,
   "metadata": {},
   "outputs": [
    {
     "data": {
      "text/html": [
       "<div>\n",
       "<style scoped>\n",
       "    .dataframe tbody tr th:only-of-type {\n",
       "        vertical-align: middle;\n",
       "    }\n",
       "\n",
       "    .dataframe tbody tr th {\n",
       "        vertical-align: top;\n",
       "    }\n",
       "\n",
       "    .dataframe thead th {\n",
       "        text-align: right;\n",
       "    }\n",
       "</style>\n",
       "<table border=\"1\" class=\"dataframe\">\n",
       "  <thead>\n",
       "    <tr style=\"text-align: right;\">\n",
       "      <th></th>\n",
       "      <th>focus</th>\n",
       "      <th>squelch</th>\n",
       "    </tr>\n",
       "    <tr>\n",
       "      <th>color</th>\n",
       "      <th></th>\n",
       "      <th></th>\n",
       "    </tr>\n",
       "  </thead>\n",
       "  <tbody>\n",
       "    <tr>\n",
       "      <th>green</th>\n",
       "      <td>685</td>\n",
       "      <td>2047</td>\n",
       "    </tr>\n",
       "    <tr>\n",
       "      <th>green</th>\n",
       "      <td>1126</td>\n",
       "      <td>2112</td>\n",
       "    </tr>\n",
       "    <tr>\n",
       "      <th>green</th>\n",
       "      <td>1205</td>\n",
       "      <td>1416</td>\n",
       "    </tr>\n",
       "    <tr>\n",
       "      <th>green</th>\n",
       "      <td>1193</td>\n",
       "      <td>1423</td>\n",
       "    </tr>\n",
       "    <tr>\n",
       "      <th>green</th>\n",
       "      <td>881</td>\n",
       "      <td>636</td>\n",
       "    </tr>\n",
       "  </tbody>\n",
       "</table>\n",
       "</div>"
      ],
      "text/plain": [
       "       focus  squelch\n",
       "color                \n",
       "green    685     2047\n",
       "green   1126     2112\n",
       "green   1205     1416\n",
       "green   1193     1423\n",
       "green    881      636"
      ]
     },
     "execution_count": 27,
     "metadata": {},
     "output_type": "execute_result"
    }
   ],
   "source": [
    "# Use explict label names instead of slices:\n",
    "df_i.loc[ ('green','yellow'), ('focus','squelch') ].head()\n"
   ]
  },
  {
   "cell_type": "markdown",
   "metadata": {},
   "source": [
    "# Multi-Indexes\n",
    "\n",
    "As we saw in the Restructing Tables notebook, data frames can have multi-level indexes for both rows and columns. In our dataframe, records have both an identifying size and color, and the have a heirarchical relationship: for each size, there are a set of object for each color. \n"
   ]
  },
  {
   "cell_type": "code",
   "execution_count": 28,
   "metadata": {},
   "outputs": [
    {
     "data": {
      "text/html": [
       "<div>\n",
       "<style scoped>\n",
       "    .dataframe tbody tr th:only-of-type {\n",
       "        vertical-align: middle;\n",
       "    }\n",
       "\n",
       "    .dataframe tbody tr th {\n",
       "        vertical-align: top;\n",
       "    }\n",
       "\n",
       "    .dataframe thead th {\n",
       "        text-align: right;\n",
       "    }\n",
       "</style>\n",
       "<table border=\"1\" class=\"dataframe\">\n",
       "  <thead>\n",
       "    <tr style=\"text-align: right;\">\n",
       "      <th></th>\n",
       "      <th>color</th>\n",
       "      <th>siz</th>\n",
       "      <th>frequency</th>\n",
       "      <th>opacity</th>\n",
       "      <th>focus</th>\n",
       "      <th>squelch</th>\n",
       "      <th>barity</th>\n",
       "    </tr>\n",
       "  </thead>\n",
       "  <tbody>\n",
       "    <tr>\n",
       "      <th>0</th>\n",
       "      <td>blue</td>\n",
       "      <td>large</td>\n",
       "      <td>1720</td>\n",
       "      <td>1540</td>\n",
       "      <td>440</td>\n",
       "      <td>2069</td>\n",
       "      <td>9790</td>\n",
       "    </tr>\n",
       "    <tr>\n",
       "      <th>1</th>\n",
       "      <td>blue</td>\n",
       "      <td>large</td>\n",
       "      <td>1762</td>\n",
       "      <td>2284</td>\n",
       "      <td>626</td>\n",
       "      <td>2100</td>\n",
       "      <td>9965</td>\n",
       "    </tr>\n",
       "    <tr>\n",
       "      <th>2</th>\n",
       "      <td>blue</td>\n",
       "      <td>medium</td>\n",
       "      <td>2551</td>\n",
       "      <td>1708</td>\n",
       "      <td>432</td>\n",
       "      <td>1366</td>\n",
       "      <td>8336</td>\n",
       "    </tr>\n",
       "    <tr>\n",
       "      <th>3</th>\n",
       "      <td>blue</td>\n",
       "      <td>medium</td>\n",
       "      <td>2918</td>\n",
       "      <td>1790</td>\n",
       "      <td>817</td>\n",
       "      <td>1504</td>\n",
       "      <td>8385</td>\n",
       "    </tr>\n",
       "    <tr>\n",
       "      <th>4</th>\n",
       "      <td>blue</td>\n",
       "      <td>small</td>\n",
       "      <td>3371</td>\n",
       "      <td>2165</td>\n",
       "      <td>756</td>\n",
       "      <td>749</td>\n",
       "      <td>4498</td>\n",
       "    </tr>\n",
       "    <tr>\n",
       "      <th>5</th>\n",
       "      <td>blue</td>\n",
       "      <td>small</td>\n",
       "      <td>4799</td>\n",
       "      <td>2075</td>\n",
       "      <td>401</td>\n",
       "      <td>658</td>\n",
       "      <td>4374</td>\n",
       "    </tr>\n",
       "    <tr>\n",
       "      <th>6</th>\n",
       "      <td>green</td>\n",
       "      <td>large</td>\n",
       "      <td>3315</td>\n",
       "      <td>1736</td>\n",
       "      <td>685</td>\n",
       "      <td>2047</td>\n",
       "      <td>6677</td>\n",
       "    </tr>\n",
       "    <tr>\n",
       "      <th>7</th>\n",
       "      <td>green</td>\n",
       "      <td>large</td>\n",
       "      <td>4733</td>\n",
       "      <td>1457</td>\n",
       "      <td>1126</td>\n",
       "      <td>2112</td>\n",
       "      <td>6769</td>\n",
       "    </tr>\n",
       "  </tbody>\n",
       "</table>\n",
       "</div>"
      ],
      "text/plain": [
       "   color     siz  frequency  opacity  focus  squelch  barity\n",
       "0   blue   large       1720     1540    440     2069    9790\n",
       "1   blue   large       1762     2284    626     2100    9965\n",
       "2   blue  medium       2551     1708    432     1366    8336\n",
       "3   blue  medium       2918     1790    817     1504    8385\n",
       "4   blue   small       3371     2165    756      749    4498\n",
       "5   blue   small       4799     2075    401      658    4374\n",
       "6  green   large       3315     1736    685     2047    6677\n",
       "7  green   large       4733     1457   1126     2112    6769"
      ]
     },
     "execution_count": 28,
     "metadata": {},
     "output_type": "execute_result"
    }
   ],
   "source": [
    "df.head(8)"
   ]
  },
  {
   "cell_type": "markdown",
   "metadata": {},
   "source": [
    "Setting the ``color`` and ``siz`` columns to the index will make that heirarchy explict."
   ]
  },
  {
   "cell_type": "code",
   "execution_count": 29,
   "metadata": {},
   "outputs": [
    {
     "data": {
      "text/html": [
       "<div>\n",
       "<style scoped>\n",
       "    .dataframe tbody tr th:only-of-type {\n",
       "        vertical-align: middle;\n",
       "    }\n",
       "\n",
       "    .dataframe tbody tr th {\n",
       "        vertical-align: top;\n",
       "    }\n",
       "\n",
       "    .dataframe thead th {\n",
       "        text-align: right;\n",
       "    }\n",
       "</style>\n",
       "<table border=\"1\" class=\"dataframe\">\n",
       "  <thead>\n",
       "    <tr style=\"text-align: right;\">\n",
       "      <th></th>\n",
       "      <th></th>\n",
       "      <th>frequency</th>\n",
       "      <th>opacity</th>\n",
       "      <th>focus</th>\n",
       "      <th>squelch</th>\n",
       "      <th>barity</th>\n",
       "    </tr>\n",
       "    <tr>\n",
       "      <th>color</th>\n",
       "      <th>siz</th>\n",
       "      <th></th>\n",
       "      <th></th>\n",
       "      <th></th>\n",
       "      <th></th>\n",
       "      <th></th>\n",
       "    </tr>\n",
       "  </thead>\n",
       "  <tbody>\n",
       "    <tr>\n",
       "      <th rowspan=\"6\" valign=\"top\">blue</th>\n",
       "      <th>large</th>\n",
       "      <td>1720</td>\n",
       "      <td>1540</td>\n",
       "      <td>440</td>\n",
       "      <td>2069</td>\n",
       "      <td>9790</td>\n",
       "    </tr>\n",
       "    <tr>\n",
       "      <th>large</th>\n",
       "      <td>1762</td>\n",
       "      <td>2284</td>\n",
       "      <td>626</td>\n",
       "      <td>2100</td>\n",
       "      <td>9965</td>\n",
       "    </tr>\n",
       "    <tr>\n",
       "      <th>medium</th>\n",
       "      <td>2551</td>\n",
       "      <td>1708</td>\n",
       "      <td>432</td>\n",
       "      <td>1366</td>\n",
       "      <td>8336</td>\n",
       "    </tr>\n",
       "    <tr>\n",
       "      <th>medium</th>\n",
       "      <td>2918</td>\n",
       "      <td>1790</td>\n",
       "      <td>817</td>\n",
       "      <td>1504</td>\n",
       "      <td>8385</td>\n",
       "    </tr>\n",
       "    <tr>\n",
       "      <th>small</th>\n",
       "      <td>3371</td>\n",
       "      <td>2165</td>\n",
       "      <td>756</td>\n",
       "      <td>749</td>\n",
       "      <td>4498</td>\n",
       "    </tr>\n",
       "    <tr>\n",
       "      <th>small</th>\n",
       "      <td>4799</td>\n",
       "      <td>2075</td>\n",
       "      <td>401</td>\n",
       "      <td>658</td>\n",
       "      <td>4374</td>\n",
       "    </tr>\n",
       "    <tr>\n",
       "      <th rowspan=\"6\" valign=\"top\">green</th>\n",
       "      <th>large</th>\n",
       "      <td>3315</td>\n",
       "      <td>1736</td>\n",
       "      <td>685</td>\n",
       "      <td>2047</td>\n",
       "      <td>6677</td>\n",
       "    </tr>\n",
       "    <tr>\n",
       "      <th>large</th>\n",
       "      <td>4733</td>\n",
       "      <td>1457</td>\n",
       "      <td>1126</td>\n",
       "      <td>2112</td>\n",
       "      <td>6769</td>\n",
       "    </tr>\n",
       "    <tr>\n",
       "      <th>medium</th>\n",
       "      <td>4218</td>\n",
       "      <td>1819</td>\n",
       "      <td>1205</td>\n",
       "      <td>1416</td>\n",
       "      <td>7115</td>\n",
       "    </tr>\n",
       "    <tr>\n",
       "      <th>medium</th>\n",
       "      <td>4492</td>\n",
       "      <td>2098</td>\n",
       "      <td>1193</td>\n",
       "      <td>1423</td>\n",
       "      <td>7245</td>\n",
       "    </tr>\n",
       "    <tr>\n",
       "      <th>small</th>\n",
       "      <td>4616</td>\n",
       "      <td>2105</td>\n",
       "      <td>881</td>\n",
       "      <td>636</td>\n",
       "      <td>6151</td>\n",
       "    </tr>\n",
       "    <tr>\n",
       "      <th>small</th>\n",
       "      <td>2601</td>\n",
       "      <td>1757</td>\n",
       "      <td>1015</td>\n",
       "      <td>535</td>\n",
       "      <td>6411</td>\n",
       "    </tr>\n",
       "  </tbody>\n",
       "</table>\n",
       "</div>"
      ],
      "text/plain": [
       "              frequency  opacity  focus  squelch  barity\n",
       "color siz                                               \n",
       "blue  large        1720     1540    440     2069    9790\n",
       "      large        1762     2284    626     2100    9965\n",
       "      medium       2551     1708    432     1366    8336\n",
       "      medium       2918     1790    817     1504    8385\n",
       "      small        3371     2165    756      749    4498\n",
       "      small        4799     2075    401      658    4374\n",
       "green large        3315     1736    685     2047    6677\n",
       "      large        4733     1457   1126     2112    6769\n",
       "      medium       4218     1819   1205     1416    7115\n",
       "      medium       4492     2098   1193     1423    7245\n",
       "      small        4616     2105    881      636    6151\n",
       "      small        2601     1757   1015      535    6411"
      ]
     },
     "execution_count": 29,
     "metadata": {},
     "output_type": "execute_result"
    }
   ],
   "source": [
    "df_mi = df.set_index(['color','siz'])\n",
    "df_mi.head(12)"
   ]
  },
  {
   "cell_type": "markdown",
   "metadata": {},
   "source": [
    "Now, all of the items that have the color of `blue` are grouped together, and the next level down all of the rows with the same size are grouped together. Each of the columns in the index is known as a \"level\".\n",
    "\n",
    "When we use the ``df.loc[]`` indexer, we can access rows using one or both of these index levels. We can index with a tuple, where the first element of the tuple is the color, and the second is the size. \n"
   ]
  },
  {
   "cell_type": "code",
   "execution_count": 30,
   "metadata": {},
   "outputs": [
    {
     "data": {
      "text/html": [
       "<div>\n",
       "<style scoped>\n",
       "    .dataframe tbody tr th:only-of-type {\n",
       "        vertical-align: middle;\n",
       "    }\n",
       "\n",
       "    .dataframe tbody tr th {\n",
       "        vertical-align: top;\n",
       "    }\n",
       "\n",
       "    .dataframe thead th {\n",
       "        text-align: right;\n",
       "    }\n",
       "</style>\n",
       "<table border=\"1\" class=\"dataframe\">\n",
       "  <thead>\n",
       "    <tr style=\"text-align: right;\">\n",
       "      <th></th>\n",
       "      <th></th>\n",
       "      <th>frequency</th>\n",
       "      <th>opacity</th>\n",
       "      <th>focus</th>\n",
       "      <th>squelch</th>\n",
       "      <th>barity</th>\n",
       "    </tr>\n",
       "    <tr>\n",
       "      <th>color</th>\n",
       "      <th>siz</th>\n",
       "      <th></th>\n",
       "      <th></th>\n",
       "      <th></th>\n",
       "      <th></th>\n",
       "      <th></th>\n",
       "    </tr>\n",
       "  </thead>\n",
       "  <tbody>\n",
       "    <tr>\n",
       "      <th rowspan=\"2\" valign=\"top\">blue</th>\n",
       "      <th>large</th>\n",
       "      <td>1720</td>\n",
       "      <td>1540</td>\n",
       "      <td>440</td>\n",
       "      <td>2069</td>\n",
       "      <td>9790</td>\n",
       "    </tr>\n",
       "    <tr>\n",
       "      <th>large</th>\n",
       "      <td>1762</td>\n",
       "      <td>2284</td>\n",
       "      <td>626</td>\n",
       "      <td>2100</td>\n",
       "      <td>9965</td>\n",
       "    </tr>\n",
       "  </tbody>\n",
       "</table>\n",
       "</div>"
      ],
      "text/plain": [
       "             frequency  opacity  focus  squelch  barity\n",
       "color siz                                              \n",
       "blue  large       1720     1540    440     2069    9790\n",
       "      large       1762     2284    626     2100    9965"
      ]
     },
     "execution_count": 30,
     "metadata": {},
     "output_type": "execute_result"
    }
   ],
   "source": [
    "df_mi.loc[ ('blue','large') ]"
   ]
  },
  {
   "cell_type": "markdown",
   "metadata": {},
   "source": [
    "As before, we can sepecify multiple items for one of the levels, by using a tuple, but that requires a bit more care. For instance, if you wanted to get the color 'blue' and the sizes of 'large' and 'small', you can sometimes put the 'large' and 'small' in a tuple:\n",
    "\n",
    "```python\n",
    "df_mi.loc[ ('blue', ('large', 'small') ) ]\n",
    "```\n",
    "\n",
    "However, most of the time this wond work, becase the parser will think you want to use 'large' and 'small'  as column names. So, you have to add a second compoent to specify all of the columns. For fortunately, the slice notation \":\", which means \"from the start to the end\" will work. We can also use ``slice(None)``, which means the same thing. \n"
   ]
  },
  {
   "cell_type": "code",
   "execution_count": 31,
   "metadata": {},
   "outputs": [
    {
     "data": {
      "text/html": [
       "<div>\n",
       "<style scoped>\n",
       "    .dataframe tbody tr th:only-of-type {\n",
       "        vertical-align: middle;\n",
       "    }\n",
       "\n",
       "    .dataframe tbody tr th {\n",
       "        vertical-align: top;\n",
       "    }\n",
       "\n",
       "    .dataframe thead th {\n",
       "        text-align: right;\n",
       "    }\n",
       "</style>\n",
       "<table border=\"1\" class=\"dataframe\">\n",
       "  <thead>\n",
       "    <tr style=\"text-align: right;\">\n",
       "      <th></th>\n",
       "      <th></th>\n",
       "      <th>frequency</th>\n",
       "      <th>opacity</th>\n",
       "      <th>focus</th>\n",
       "      <th>squelch</th>\n",
       "      <th>barity</th>\n",
       "    </tr>\n",
       "    <tr>\n",
       "      <th>color</th>\n",
       "      <th>siz</th>\n",
       "      <th></th>\n",
       "      <th></th>\n",
       "      <th></th>\n",
       "      <th></th>\n",
       "      <th></th>\n",
       "    </tr>\n",
       "  </thead>\n",
       "  <tbody>\n",
       "    <tr>\n",
       "      <th rowspan=\"4\" valign=\"top\">blue</th>\n",
       "      <th>large</th>\n",
       "      <td>1720</td>\n",
       "      <td>1540</td>\n",
       "      <td>440</td>\n",
       "      <td>2069</td>\n",
       "      <td>9790</td>\n",
       "    </tr>\n",
       "    <tr>\n",
       "      <th>large</th>\n",
       "      <td>1762</td>\n",
       "      <td>2284</td>\n",
       "      <td>626</td>\n",
       "      <td>2100</td>\n",
       "      <td>9965</td>\n",
       "    </tr>\n",
       "    <tr>\n",
       "      <th>small</th>\n",
       "      <td>3371</td>\n",
       "      <td>2165</td>\n",
       "      <td>756</td>\n",
       "      <td>749</td>\n",
       "      <td>4498</td>\n",
       "    </tr>\n",
       "    <tr>\n",
       "      <th>small</th>\n",
       "      <td>4799</td>\n",
       "      <td>2075</td>\n",
       "      <td>401</td>\n",
       "      <td>658</td>\n",
       "      <td>4374</td>\n",
       "    </tr>\n",
       "  </tbody>\n",
       "</table>\n",
       "</div>"
      ],
      "text/plain": [
       "             frequency  opacity  focus  squelch  barity\n",
       "color siz                                              \n",
       "blue  large       1720     1540    440     2069    9790\n",
       "      large       1762     2284    626     2100    9965\n",
       "      small       3371     2165    756      749    4498\n",
       "      small       4799     2075    401      658    4374"
      ]
     },
     "execution_count": 31,
     "metadata": {},
     "output_type": "execute_result"
    }
   ],
   "source": [
    "df_mi.loc[ ('blue', ('large', 'small') ),slice(None) ]"
   ]
  },
  {
   "cell_type": "markdown",
   "metadata": {},
   "source": [
    "To expand what this means:\n"
   ]
  },
  {
   "cell_type": "code",
   "execution_count": 32,
   "metadata": {},
   "outputs": [
    {
     "data": {
      "text/html": [
       "<div>\n",
       "<style scoped>\n",
       "    .dataframe tbody tr th:only-of-type {\n",
       "        vertical-align: middle;\n",
       "    }\n",
       "\n",
       "    .dataframe tbody tr th {\n",
       "        vertical-align: top;\n",
       "    }\n",
       "\n",
       "    .dataframe thead th {\n",
       "        text-align: right;\n",
       "    }\n",
       "</style>\n",
       "<table border=\"1\" class=\"dataframe\">\n",
       "  <thead>\n",
       "    <tr style=\"text-align: right;\">\n",
       "      <th></th>\n",
       "      <th></th>\n",
       "      <th>frequency</th>\n",
       "      <th>opacity</th>\n",
       "      <th>focus</th>\n",
       "      <th>squelch</th>\n",
       "      <th>barity</th>\n",
       "    </tr>\n",
       "    <tr>\n",
       "      <th>color</th>\n",
       "      <th>siz</th>\n",
       "      <th></th>\n",
       "      <th></th>\n",
       "      <th></th>\n",
       "      <th></th>\n",
       "      <th></th>\n",
       "    </tr>\n",
       "  </thead>\n",
       "  <tbody>\n",
       "    <tr>\n",
       "      <th rowspan=\"4\" valign=\"top\">blue</th>\n",
       "      <th>large</th>\n",
       "      <td>1720</td>\n",
       "      <td>1540</td>\n",
       "      <td>440</td>\n",
       "      <td>2069</td>\n",
       "      <td>9790</td>\n",
       "    </tr>\n",
       "    <tr>\n",
       "      <th>large</th>\n",
       "      <td>1762</td>\n",
       "      <td>2284</td>\n",
       "      <td>626</td>\n",
       "      <td>2100</td>\n",
       "      <td>9965</td>\n",
       "    </tr>\n",
       "    <tr>\n",
       "      <th>small</th>\n",
       "      <td>3371</td>\n",
       "      <td>2165</td>\n",
       "      <td>756</td>\n",
       "      <td>749</td>\n",
       "      <td>4498</td>\n",
       "    </tr>\n",
       "    <tr>\n",
       "      <th>small</th>\n",
       "      <td>4799</td>\n",
       "      <td>2075</td>\n",
       "      <td>401</td>\n",
       "      <td>658</td>\n",
       "      <td>4374</td>\n",
       "    </tr>\n",
       "  </tbody>\n",
       "</table>\n",
       "</div>"
      ],
      "text/plain": [
       "             frequency  opacity  focus  squelch  barity\n",
       "color siz                                              \n",
       "blue  large       1720     1540    440     2069    9790\n",
       "      large       1762     2284    626     2100    9965\n",
       "      small       3371     2165    756      749    4498\n",
       "      small       4799     2075    401      658    4374"
      ]
     },
     "execution_count": 32,
     "metadata": {},
     "output_type": "execute_result"
    }
   ],
   "source": [
    "color_label = 'blue'\n",
    "\n",
    "size_label = ('large','small')\n",
    "\n",
    "row_indexer = (color_label, size_label)\n",
    "\n",
    "column_indexer = slice(None) # This means \"from the first coum to the last\" or \"all columns\"\n",
    "\n",
    "df_mi.loc[ row_indexer, column_indexer]\n",
    "\n"
   ]
  },
  {
   "cell_type": "markdown",
   "metadata": {},
   "source": [
    "\n",
    "The ``slice(None)`` trick can be used to mean \"all of a level\", so we could get all of colors, but only some of the sizes. However, in a lot of cases, the better style is to use \":\" instead of ``slice(None)``. In the following code, we can make that substitution for the column indexer, but not for the color label."
   ]
  },
  {
   "cell_type": "code",
   "execution_count": 33,
   "metadata": {},
   "outputs": [
    {
     "data": {
      "text/html": [
       "<div>\n",
       "<style scoped>\n",
       "    .dataframe tbody tr th:only-of-type {\n",
       "        vertical-align: middle;\n",
       "    }\n",
       "\n",
       "    .dataframe tbody tr th {\n",
       "        vertical-align: top;\n",
       "    }\n",
       "\n",
       "    .dataframe thead th {\n",
       "        text-align: right;\n",
       "    }\n",
       "</style>\n",
       "<table border=\"1\" class=\"dataframe\">\n",
       "  <thead>\n",
       "    <tr style=\"text-align: right;\">\n",
       "      <th></th>\n",
       "      <th></th>\n",
       "      <th>frequency</th>\n",
       "      <th>opacity</th>\n",
       "      <th>focus</th>\n",
       "      <th>squelch</th>\n",
       "      <th>barity</th>\n",
       "    </tr>\n",
       "    <tr>\n",
       "      <th>color</th>\n",
       "      <th>siz</th>\n",
       "      <th></th>\n",
       "      <th></th>\n",
       "      <th></th>\n",
       "      <th></th>\n",
       "      <th></th>\n",
       "    </tr>\n",
       "  </thead>\n",
       "  <tbody>\n",
       "    <tr>\n",
       "      <th rowspan=\"4\" valign=\"top\">blue</th>\n",
       "      <th>large</th>\n",
       "      <td>1720</td>\n",
       "      <td>1540</td>\n",
       "      <td>440</td>\n",
       "      <td>2069</td>\n",
       "      <td>9790</td>\n",
       "    </tr>\n",
       "    <tr>\n",
       "      <th>large</th>\n",
       "      <td>1762</td>\n",
       "      <td>2284</td>\n",
       "      <td>626</td>\n",
       "      <td>2100</td>\n",
       "      <td>9965</td>\n",
       "    </tr>\n",
       "    <tr>\n",
       "      <th>small</th>\n",
       "      <td>3371</td>\n",
       "      <td>2165</td>\n",
       "      <td>756</td>\n",
       "      <td>749</td>\n",
       "      <td>4498</td>\n",
       "    </tr>\n",
       "    <tr>\n",
       "      <th>small</th>\n",
       "      <td>4799</td>\n",
       "      <td>2075</td>\n",
       "      <td>401</td>\n",
       "      <td>658</td>\n",
       "      <td>4374</td>\n",
       "    </tr>\n",
       "    <tr>\n",
       "      <th>green</th>\n",
       "      <th>large</th>\n",
       "      <td>3315</td>\n",
       "      <td>1736</td>\n",
       "      <td>685</td>\n",
       "      <td>2047</td>\n",
       "      <td>6677</td>\n",
       "    </tr>\n",
       "  </tbody>\n",
       "</table>\n",
       "</div>"
      ],
      "text/plain": [
       "             frequency  opacity  focus  squelch  barity\n",
       "color siz                                              \n",
       "blue  large       1720     1540    440     2069    9790\n",
       "      large       1762     2284    626     2100    9965\n",
       "      small       3371     2165    756      749    4498\n",
       "      small       4799     2075    401      658    4374\n",
       "green large       3315     1736    685     2047    6677"
      ]
     },
     "execution_count": 33,
     "metadata": {},
     "output_type": "execute_result"
    }
   ],
   "source": [
    "df_mi.loc[ (slice(None), ('large','small') ), :].head()"
   ]
  },
  {
   "cell_type": "markdown",
   "metadata": {},
   "source": [
    "To Recap: \n",
    "\n",
    "* ``Slice(None)`` means to take all labels of the color level in the index\n",
    "* ``('large','small')`` means to take only the 'large' and 'small'  labels in the siz index. \n",
    "* ``(slice(None), ('large','small') )`` combines the two previous into an indexer for the rows\n",
    "* ``:`` is on the right side of the top level comma, so it is the column indexer, meaning to take all columns. "
   ]
  },
  {
   "cell_type": "markdown",
   "metadata": {},
   "source": [
    "We can take the complexity one step farther and select only a few of the columns:"
   ]
  },
  {
   "cell_type": "code",
   "execution_count": 34,
   "metadata": {},
   "outputs": [
    {
     "data": {
      "text/html": [
       "<div>\n",
       "<style scoped>\n",
       "    .dataframe tbody tr th:only-of-type {\n",
       "        vertical-align: middle;\n",
       "    }\n",
       "\n",
       "    .dataframe tbody tr th {\n",
       "        vertical-align: top;\n",
       "    }\n",
       "\n",
       "    .dataframe thead th {\n",
       "        text-align: right;\n",
       "    }\n",
       "</style>\n",
       "<table border=\"1\" class=\"dataframe\">\n",
       "  <thead>\n",
       "    <tr style=\"text-align: right;\">\n",
       "      <th></th>\n",
       "      <th></th>\n",
       "      <th>opacity</th>\n",
       "      <th>squelch</th>\n",
       "    </tr>\n",
       "    <tr>\n",
       "      <th>color</th>\n",
       "      <th>siz</th>\n",
       "      <th></th>\n",
       "      <th></th>\n",
       "    </tr>\n",
       "  </thead>\n",
       "  <tbody>\n",
       "    <tr>\n",
       "      <th rowspan=\"4\" valign=\"top\">blue</th>\n",
       "      <th>large</th>\n",
       "      <td>1540</td>\n",
       "      <td>2069</td>\n",
       "    </tr>\n",
       "    <tr>\n",
       "      <th>large</th>\n",
       "      <td>2284</td>\n",
       "      <td>2100</td>\n",
       "    </tr>\n",
       "    <tr>\n",
       "      <th>small</th>\n",
       "      <td>2165</td>\n",
       "      <td>749</td>\n",
       "    </tr>\n",
       "    <tr>\n",
       "      <th>small</th>\n",
       "      <td>2075</td>\n",
       "      <td>658</td>\n",
       "    </tr>\n",
       "    <tr>\n",
       "      <th>green</th>\n",
       "      <th>large</th>\n",
       "      <td>1736</td>\n",
       "      <td>2047</td>\n",
       "    </tr>\n",
       "  </tbody>\n",
       "</table>\n",
       "</div>"
      ],
      "text/plain": [
       "             opacity  squelch\n",
       "color siz                    \n",
       "blue  large     1540     2069\n",
       "      large     2284     2100\n",
       "      small     2165      749\n",
       "      small     2075      658\n",
       "green large     1736     2047"
      ]
     },
     "execution_count": 34,
     "metadata": {},
     "output_type": "execute_result"
    }
   ],
   "source": [
    "df_mi.loc[ (slice(None), ('large','small') ), ('opacity','squelch')].head()"
   ]
  },
  {
   "cell_type": "markdown",
   "metadata": {},
   "source": [
    "There is only one more step to realize the full capability of the ``df.loc[]`` indexer: you can have a multi-index for columns too. But that is a specialized case, so we'll leave that for later. "
   ]
  },
  {
   "cell_type": "markdown",
   "metadata": {},
   "source": [
    "# Test"
   ]
  },
  {
   "cell_type": "code",
   "execution_count": 35,
   "metadata": {},
   "outputs": [],
   "source": [
    "# First, let's re-load our dataset\n",
    "df  = pd.read_csv('http://ds.civicknowledge.org.s3.amazonaws.com/civicknowledge.com/pandas-training/colors-sizes.csv', index_col=False)\n"
   ]
  },
  {
   "cell_type": "markdown",
   "metadata": {},
   "source": [
    "# Task 1\n",
    "\n",
    "Select row number 5 from ``df`` and return it as the output of the cell ( Leave it as the last line in the cell ) \n"
   ]
  },
  {
   "cell_type": "code",
   "execution_count": 36,
   "metadata": {
    "tags": [
     "solution"
    ]
   },
   "outputs": [],
   "source": [
    "# Solution\n"
   ]
  },
  {
   "cell_type": "code",
   "execution_count": 37,
   "metadata": {},
   "outputs": [
    {
     "data": {
      "text/html": [
       "<p style=\"color:green; font-size:30pt\">Success!</p>"
      ],
      "text/plain": [
       "<IPython.core.display.HTML object>"
      ]
     },
     "execution_count": 37,
     "metadata": {},
     "output_type": "execute_result"
    }
   ],
   "source": [
    "# Test\n",
    "assert 'df' in locals(), \"Dataframe 'df' isn't loaded. Be sure to run the cell right after the 'Test' heading \"\n",
    "assert _.name == 5\n",
    "success"
   ]
  },
  {
   "cell_type": "markdown",
   "metadata": {},
   "source": [
    "# Task 2\n",
    "\n",
    "Select rows 10 to 20 in from ``df``. Remember that your output should include row #10, but not row #20\n"
   ]
  },
  {
   "cell_type": "code",
   "execution_count": 38,
   "metadata": {
    "tags": [
     "solution"
    ]
   },
   "outputs": [],
   "source": [
    "# Solution\n"
   ]
  },
  {
   "cell_type": "code",
   "execution_count": 39,
   "metadata": {},
   "outputs": [
    {
     "data": {
      "text/html": [
       "<p style=\"color:green; font-size:30pt\">Success!</p>"
      ],
      "text/plain": [
       "<IPython.core.display.HTML object>"
      ]
     },
     "execution_count": 39,
     "metadata": {},
     "output_type": "execute_result"
    }
   ],
   "source": [
    "# Test\n",
    "assert all((_ == df.iloc[10:20]).color)\n",
    "success"
   ]
  },
  {
   "cell_type": "markdown",
   "metadata": {},
   "source": [
    "# Task 3\n",
    "\n",
    "Assign a new dataframe, ``df1`` that is the ``df`` dataframe, but with the index set to the ``color`` column. Then, select all of the rows that have the color blue. \n"
   ]
  },
  {
   "cell_type": "code",
   "execution_count": 40,
   "metadata": {
    "tags": [
     "solution"
    ]
   },
   "outputs": [],
   "source": [
    "# Solution\n"
   ]
  },
  {
   "cell_type": "code",
   "execution_count": 41,
   "metadata": {},
   "outputs": [
    {
     "data": {
      "text/html": [
       "<p style=\"color:green; font-size:30pt\">Success!</p>"
      ],
      "text/plain": [
       "<IPython.core.display.HTML object>"
      ]
     },
     "execution_count": 41,
     "metadata": {},
     "output_type": "execute_result"
    }
   ],
   "source": [
    "# Test\n",
    "assert _.focus.sum()== df[df.color == 'blue'].focus.sum()\n",
    "success"
   ]
  },
  {
   "cell_type": "markdown",
   "metadata": {},
   "source": [
    "# Task 4\n",
    "\n",
    "Produce the same dataframe as in Task 3 -- all the rows with color 'blue' --  but using a column comparison on the ``df`` dataframe to produce a boolean series. ( You don't need to set the index. ) \n"
   ]
  },
  {
   "cell_type": "code",
   "execution_count": 42,
   "metadata": {
    "tags": [
     "solution"
    ]
   },
   "outputs": [],
   "source": [
    "# Solution\n"
   ]
  },
  {
   "cell_type": "code",
   "execution_count": 43,
   "metadata": {},
   "outputs": [
    {
     "data": {
      "text/html": [
       "<p style=\"color:green; font-size:30pt\">Success!</p>"
      ],
      "text/plain": [
       "<IPython.core.display.HTML object>"
      ]
     },
     "execution_count": 43,
     "metadata": {},
     "output_type": "execute_result"
    }
   ],
   "source": [
    "# Test\n",
    "\n",
    "assert len(_.columns) == 7, 'Table has wrong number of columns'\n",
    "assert len(_) == 6, 'Table has wrong number of rows'\n",
    "assert _.frequency.sum()==  17121, 'Table has wrong sum of values'\n",
    "success"
   ]
  },
  {
   "cell_type": "markdown",
   "metadata": {},
   "source": [
    "# Task 5\n",
    "\n",
    "Use the ``.loc[]`` indexer to select rows with color \"green\" and the \"focus\" and \"barity\" columns. You will need to use ``.set_index()``\n"
   ]
  },
  {
   "cell_type": "code",
   "execution_count": 44,
   "metadata": {
    "tags": [
     "solution"
    ]
   },
   "outputs": [],
   "source": [
    "# Solution\n"
   ]
  },
  {
   "cell_type": "code",
   "execution_count": 45,
   "metadata": {},
   "outputs": [
    {
     "data": {
      "text/html": [
       "<p style=\"color:green; font-size:30pt\">Success!</p>"
      ],
      "text/plain": [
       "<IPython.core.display.HTML object>"
      ]
     },
     "execution_count": 45,
     "metadata": {},
     "output_type": "execute_result"
    }
   ],
   "source": [
    "assert len(_.columns) == 2, 'Table has wrong number of columns'\n",
    "assert len(_) == 6, 'Table has wrong number of rows'\n",
    "assert _.sum().sum() ==  46473, 'Table has wrong sum of values'\n",
    "success"
   ]
  },
  {
   "cell_type": "markdown",
   "metadata": {},
   "source": [
    "# Task 6\n",
    "\n",
    "Create a new dataframe, ``t``, which is a copy of ``df`` but has the index set to 'siz' and 'color'. Index ``t`` to return all values of ``siz`` but only the colors 'blue' and 'green', and only the columns 'focus' and 'barity'."
   ]
  },
  {
   "cell_type": "code",
   "execution_count": 46,
   "metadata": {
    "tags": [
     "solution"
    ]
   },
   "outputs": [],
   "source": [
    "# Solution\n"
   ]
  },
  {
   "cell_type": "code",
   "execution_count": 47,
   "metadata": {},
   "outputs": [
    {
     "data": {
      "text/html": [
       "<p style=\"color:green; font-size:30pt\">Success!</p>"
      ],
      "text/plain": [
       "<IPython.core.display.HTML object>"
      ]
     },
     "execution_count": 47,
     "metadata": {},
     "output_type": "execute_result"
    }
   ],
   "source": [
    "assert len(_) == 12, \"Dataframe isn't the right length.\"\n",
    "assert _.sum().sum() == 95293, 'DataFrame values did not have the corect sum. '\n",
    "success"
   ]
  },
  {
   "cell_type": "code",
   "execution_count": null,
   "metadata": {},
   "outputs": [],
   "source": []
  }
 ],
 "metadata": {
  "kernelspec": {
   "display_name": "Python 3",
   "language": "python",
   "name": "python3"
  },
  "language_info": {
   "codemirror_mode": {
    "name": "ipython",
    "version": 3
   },
   "file_extension": ".py",
   "mimetype": "text/x-python",
   "name": "python",
   "nbconvert_exporter": "python",
   "pygments_lexer": "ipython3",
   "version": "3.7.6"
  }
 },
 "nbformat": 4,
 "nbformat_minor": 4
}
