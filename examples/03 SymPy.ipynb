{
 "cells": [
  {
   "cell_type": "markdown",
   "id": "4095aea1-3dce-4514-a9be-34053a20b9b7",
   "metadata": {},
   "source": [
    "# SymPy\n",
    "\n",
    "https://www.sympy.org/en/index.html\n",
    "\n",
    "https://jaantollander.com/post/computer-algebra-with-sympy-and-jupyter/\n",
    "\n",
    "\n"
   ]
  },
  {
   "cell_type": "code",
   "execution_count": 3,
   "id": "a67ca014-424b-4f51-8bde-da249478c03c",
   "metadata": {},
   "outputs": [],
   "source": [
    "from sympy import *\n",
    "init_printing(\"mathjax\") # sympy expression printing\n",
    "\n",
    "\n",
    "x = symbols(\"x\")\n",
    "a,b,c = symbols(\"a,b,c\", real=True)\n",
    "i,j,n = symbols(\"i,j,n\", integer=True)\n",
    "f = symbols(\"f\", cls=Function)"
   ]
  },
  {
   "cell_type": "markdown",
   "id": "4af6153b-f30d-4a5e-b621-1b5adf5f779d",
   "metadata": {},
   "source": [
    "## Basic Equations"
   ]
  },
  {
   "cell_type": "code",
   "execution_count": 8,
   "id": "1d553323-0979-45a4-9b40-e355aa4bdd1d",
   "metadata": {},
   "outputs": [
    {
     "data": {
      "image/png": "[encoded data removed]",
      "text/latex": [
       "$\\displaystyle a x^{2} + b x + c$"
      ],
      "text/plain": [
       "   2          \n",
       "a⋅x  + b⋅x + c"
      ]
     },
     "execution_count": 8,
     "metadata": {},
     "output_type": "execute_result"
    }
   ],
   "source": [
    "eq = a*x**2 + b*x + c \n",
    "eq"
   ]
  },
  {
   "cell_type": "code",
   "execution_count": 9,
   "id": "194219fa-1a48-45d1-ad2e-fe1ddbc8dd42",
   "metadata": {},
   "outputs": [
    {
     "data": {
      "image/png": "[encoded data removed]",
      "text/latex": [
       "$\\displaystyle \\left[ \\frac{- b - \\sqrt{- 4 a c + b^{2}}}{2 a}, \\  \\frac{- b + \\sqrt{- 4 a c + b^{2}}}{2 a}\\right]$"
      ],
      "text/plain": [
       "⎡        _____________          _____________⎤\n",
       "⎢       ╱           2          ╱           2 ⎥\n",
       "⎢-b - ╲╱  -4⋅a⋅c + b    -b + ╲╱  -4⋅a⋅c + b  ⎥\n",
       "⎢─────────────────────, ─────────────────────⎥\n",
       "⎣         2⋅a                    2⋅a         ⎦"
      ]
     },
     "execution_count": 9,
     "metadata": {},
     "output_type": "execute_result"
    }
   ],
   "source": [
    "solve(eq, x)"
   ]
  },
  {
   "cell_type": "markdown",
   "id": "4d4af12a-b024-40a2-ba51-a150ec423cf8",
   "metadata": {},
   "source": [
    "## Summation"
   ]
  },
  {
   "cell_type": "code",
   "execution_count": 10,
   "id": "62f7f3c5-dbb4-4d22-be95-5d6ffc5811a0",
   "metadata": {},
   "outputs": [
    {
     "data": {
      "image/png": "[encoded data removed]",
      "text/latex": [
       "$\\displaystyle \\sum_{i=1}^{n} x^{i}$"
      ],
      "text/plain": [
       "  n     \n",
       " ___    \n",
       " ╲      \n",
       "  ╲    i\n",
       "  ╱   x \n",
       " ╱      \n",
       " ‾‾‾    \n",
       "i = 1   "
      ]
     },
     "execution_count": 10,
     "metadata": {},
     "output_type": "execute_result"
    }
   ],
   "source": [
    "\n",
    "eq = Sum(x**i, (i, 1, n))\n",
    "eq"
   ]
  },
  {
   "cell_type": "code",
   "execution_count": 7,
   "id": "5bc2b006-e3e4-4d97-8737-2c2507413080",
   "metadata": {},
   "outputs": [
    {
     "data": {
      "image/png": "[encoded data removed]",
      "text/latex": [
       "$\\displaystyle \\begin{cases} n & \\text{for}\\: x = 1 \\\\\\frac{x - x^{n + 1}}{1 - x} & \\text{otherwise} \\end{cases}$"
      ],
      "text/plain": [
       "⎧    n       for x = 1\n",
       "⎪                     \n",
       "⎪     n + 1           \n",
       "⎨x - x                \n",
       "⎪──────────  otherwise\n",
       "⎪  1 - x              \n",
       "⎩                     "
      ]
     },
     "execution_count": 7,
     "metadata": {},
     "output_type": "execute_result"
    }
   ],
   "source": [
    "eq.doit()"
   ]
  },
  {
   "cell_type": "markdown",
   "id": "124c7588-c687-406a-81ba-d934eda4f020",
   "metadata": {},
   "source": [
    "## Differential Equations"
   ]
  },
  {
   "cell_type": "code",
   "execution_count": 12,
   "id": "09030b0c-b327-4971-b05f-ad48f38b871b",
   "metadata": {},
   "outputs": [
    {
     "data": {
      "image/png": "[encoded data removed]",
      "text/latex": [
       "$\\displaystyle a \\frac{d}{d x} f{\\left(x \\right)} + b f{\\left(x \\right)} + c + \\frac{d^{2}}{d x^{2}} f{\\left(x \\right)}$"
      ],
      "text/plain": [
       "                            2      \n",
       "  d                        d       \n",
       "a⋅──(f(x)) + b⋅f(x) + c + ───(f(x))\n",
       "  dx                        2      \n",
       "                          dx       "
      ]
     },
     "execution_count": 12,
     "metadata": {},
     "output_type": "execute_result"
    }
   ],
   "source": [
    "f = Function(\"f\")\n",
    "\n",
    "eq = diff(f(x), x, 2) + a*diff(f(x), x) + b*f(x) + c\n",
    "eq"
   ]
  },
  {
   "cell_type": "code",
   "execution_count": 13,
   "id": "5a9462f9-d258-44cd-a0d5-a020c243767c",
   "metadata": {},
   "outputs": [
    {
     "data": {
      "image/png": "[encoded data removed]",
      "text/latex": [
       "$\\displaystyle f{\\left(x \\right)} = C_{1} e^{\\frac{x \\left(- a + \\sqrt{a^{2} - 4 b}\\right)}{2}} + C_{2} e^{- \\frac{x \\left(a + \\sqrt{a^{2} - 4 b}\\right)}{2}} - \\frac{c}{b}$"
      ],
      "text/plain": [
       "             ⎛        __________⎞          ⎛       __________⎞     \n",
       "             ⎜       ╱  2       ⎟          ⎜      ╱  2       ⎟     \n",
       "           x⋅⎝-a + ╲╱  a  - 4⋅b ⎠       -x⋅⎝a + ╲╱  a  - 4⋅b ⎠     \n",
       "           ──────────────────────       ───────────────────────    \n",
       "                     2                             2              c\n",
       "f(x) = C₁⋅ℯ                       + C₂⋅ℯ                        - ─\n",
       "                                                                  b"
      ]
     },
     "execution_count": 13,
     "metadata": {},
     "output_type": "execute_result"
    }
   ],
   "source": [
    "dsolve(eq)"
   ]
  },
  {
   "cell_type": "code",
   "execution_count": null,
   "id": "326c19dd-f187-4665-bce7-853bdf995554",
   "metadata": {},
   "outputs": [],
   "source": []
  }
 ],
 "metadata": {
  "kernelspec": {
   "display_name": "Python 3 (ipykernel)",
   "language": "python",
   "name": "python3"
  },
  "language_info": {
   "codemirror_mode": {
    "name": "ipython",
    "version": 3
   },
   "file_extension": ".py",
   "mimetype": "text/x-python",
   "name": "python",
   "nbconvert_exporter": "python",
   "pygments_lexer": "ipython3",
   "version": "3.11.6"
  }
 },
 "nbformat": 4,
 "nbformat_minor": 5
}
